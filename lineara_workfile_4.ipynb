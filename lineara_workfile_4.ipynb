{
 "cells": [
  {
   "cell_type": "markdown",
   "metadata": {
    "id": "ns329APPQlk1"
   },
   "source": [
    "# Lost in Translation: Computational Approach to Linear A Decryption with LSTM and Transformer Models\n",
    "### *Team: Steven Lu, Georgiy Sekretaryuk, Oluwafemi*"
   ]
  },
  {
   "cell_type": "markdown",
   "metadata": {
    "id": "68cUlXO-Q1PE"
   },
   "source": [
    "## OUTLINE\n",
    "\n",
    "Part 1 Goals:\n",
    "- replicate NeuroDecipher LSTM model with Linear B\n",
    "- apply NeuroDecipher NLP approaches in a transformer model\n",
    "- test different pre-training techniques and parameters to see how it influences the result\n",
    "\n",
    "Part 2 Goals:\n",
    "\n",
    "...TBD after Nov 13\n",
    "- Work with Linear A here"
   ]
  },
  {
   "cell_type": "markdown",
   "metadata": {
    "id": "A95gI6tYhP19"
   },
   "source": [
    "## IMPORTS\n",
    "\n",
    "Import the necessary libraries for the project and define any additional configurations."
   ]
  },
  {
   "cell_type": "code",
   "execution_count": 1,
   "metadata": {
    "id": "T3eQrjVocsjt",
    "outputId": "5f007507-1e9a-4379-cbd2-aa95e3baca43"
   },
   "outputs": [
    {
     "name": "stdout",
     "output_type": "stream",
     "text": [
      "Requirement already satisfied: transformers in /opt/homebrew/lib/python3.10/site-packages (4.35.2)\n",
      "Requirement already satisfied: regex!=2019.12.17 in /opt/homebrew/lib/python3.10/site-packages (from transformers) (2023.10.3)\n",
      "Requirement already satisfied: numpy>=1.17 in /opt/homebrew/lib/python3.10/site-packages (from transformers) (1.26.2)\n",
      "Requirement already satisfied: packaging>=20.0 in /opt/homebrew/lib/python3.10/site-packages (from transformers) (21.3)\n",
      "Requirement already satisfied: filelock in /opt/homebrew/lib/python3.10/site-packages (from transformers) (3.13.1)\n",
      "Requirement already satisfied: requests in /opt/homebrew/lib/python3.10/site-packages (from transformers) (2.28.1)\n",
      "Requirement already satisfied: pyyaml>=5.1 in /opt/homebrew/lib/python3.10/site-packages (from transformers) (6.0.1)\n",
      "Requirement already satisfied: safetensors>=0.3.1 in /opt/homebrew/lib/python3.10/site-packages (from transformers) (0.4.0)\n",
      "Requirement already satisfied: huggingface-hub<1.0,>=0.16.4 in /opt/homebrew/lib/python3.10/site-packages (from transformers) (0.19.4)\n",
      "Requirement already satisfied: tqdm>=4.27 in /opt/homebrew/lib/python3.10/site-packages (from transformers) (4.66.1)\n",
      "Requirement already satisfied: tokenizers<0.19,>=0.14 in /opt/homebrew/lib/python3.10/site-packages (from transformers) (0.15.0)\n",
      "Requirement already satisfied: fsspec>=2023.5.0 in /opt/homebrew/lib/python3.10/site-packages (from huggingface-hub<1.0,>=0.16.4->transformers) (2023.10.0)\n",
      "Requirement already satisfied: typing-extensions>=3.7.4.3 in /opt/homebrew/lib/python3.10/site-packages (from huggingface-hub<1.0,>=0.16.4->transformers) (4.8.0)\n",
      "Requirement already satisfied: pyparsing!=3.0.5,>=2.0.2 in /opt/homebrew/lib/python3.10/site-packages (from packaging>=20.0->transformers) (3.0.9)\n",
      "Requirement already satisfied: charset-normalizer<3,>=2 in /opt/homebrew/lib/python3.10/site-packages (from requests->transformers) (2.1.1)\n",
      "Requirement already satisfied: certifi>=2017.4.17 in /opt/homebrew/lib/python3.10/site-packages (from requests->transformers) (2022.12.7)\n",
      "Requirement already satisfied: idna<4,>=2.5 in /opt/homebrew/lib/python3.10/site-packages (from requests->transformers) (3.4)\n",
      "Requirement already satisfied: urllib3<1.27,>=1.21.1 in /opt/homebrew/lib/python3.10/site-packages (from requests->transformers) (1.26.13)\n",
      "\n",
      "\u001b[1m[\u001b[0m\u001b[34;49mnotice\u001b[0m\u001b[1;39;49m]\u001b[0m\u001b[39;49m A new release of pip available: \u001b[0m\u001b[31;49m22.3.1\u001b[0m\u001b[39;49m -> \u001b[0m\u001b[32;49m23.3.1\u001b[0m\n",
      "\u001b[1m[\u001b[0m\u001b[34;49mnotice\u001b[0m\u001b[1;39;49m]\u001b[0m\u001b[39;49m To update, run: \u001b[0m\u001b[32;49mpython3.10 -m pip install --upgrade pip\u001b[0m\n",
      "Requirement already satisfied: torch in /opt/homebrew/lib/python3.10/site-packages (2.1.1)\n",
      "Requirement already satisfied: filelock in /opt/homebrew/lib/python3.10/site-packages (from torch) (3.13.1)\n",
      "Requirement already satisfied: typing-extensions in /opt/homebrew/lib/python3.10/site-packages (from torch) (4.8.0)\n",
      "Requirement already satisfied: fsspec in /opt/homebrew/lib/python3.10/site-packages (from torch) (2023.10.0)\n",
      "Requirement already satisfied: jinja2 in /opt/homebrew/lib/python3.10/site-packages (from torch) (3.1.2)\n",
      "Requirement already satisfied: networkx in /opt/homebrew/lib/python3.10/site-packages (from torch) (3.2.1)\n",
      "Requirement already satisfied: sympy in /opt/homebrew/lib/python3.10/site-packages (from torch) (1.12)\n",
      "Requirement already satisfied: MarkupSafe>=2.0 in /opt/homebrew/lib/python3.10/site-packages (from jinja2->torch) (2.1.3)\n",
      "Requirement already satisfied: mpmath>=0.19 in /opt/homebrew/lib/python3.10/site-packages (from sympy->torch) (1.3.0)\n",
      "\n",
      "\u001b[1m[\u001b[0m\u001b[34;49mnotice\u001b[0m\u001b[1;39;49m]\u001b[0m\u001b[39;49m A new release of pip available: \u001b[0m\u001b[31;49m22.3.1\u001b[0m\u001b[39;49m -> \u001b[0m\u001b[32;49m23.3.1\u001b[0m\n",
      "\u001b[1m[\u001b[0m\u001b[34;49mnotice\u001b[0m\u001b[1;39;49m]\u001b[0m\u001b[39;49m To update, run: \u001b[0m\u001b[32;49mpython3.10 -m pip install --upgrade pip\u001b[0m\n",
      "Requirement already satisfied: transliterate in /opt/homebrew/lib/python3.10/site-packages (1.10.2)\n",
      "Requirement already satisfied: six>=1.1.0 in /opt/homebrew/lib/python3.10/site-packages (from transliterate) (1.16.0)\n",
      "\n",
      "\u001b[1m[\u001b[0m\u001b[34;49mnotice\u001b[0m\u001b[1;39;49m]\u001b[0m\u001b[39;49m A new release of pip available: \u001b[0m\u001b[31;49m22.3.1\u001b[0m\u001b[39;49m -> \u001b[0m\u001b[32;49m23.3.1\u001b[0m\n",
      "\u001b[1m[\u001b[0m\u001b[34;49mnotice\u001b[0m\u001b[1;39;49m]\u001b[0m\u001b[39;49m To update, run: \u001b[0m\u001b[32;49mpython3.10 -m pip install --upgrade pip\u001b[0m\n",
      "Requirement already satisfied: sentencepiece in /opt/homebrew/lib/python3.10/site-packages (0.1.99)\n",
      "\n",
      "\u001b[1m[\u001b[0m\u001b[34;49mnotice\u001b[0m\u001b[1;39;49m]\u001b[0m\u001b[39;49m A new release of pip available: \u001b[0m\u001b[31;49m22.3.1\u001b[0m\u001b[39;49m -> \u001b[0m\u001b[32;49m23.3.1\u001b[0m\n",
      "\u001b[1m[\u001b[0m\u001b[34;49mnotice\u001b[0m\u001b[1;39;49m]\u001b[0m\u001b[39;49m To update, run: \u001b[0m\u001b[32;49mpython3.10 -m pip install --upgrade pip\u001b[0m\n"
     ]
    },
    {
     "name": "stderr",
     "output_type": "stream",
     "text": [
      "/opt/homebrew/lib/python3.10/site-packages/tqdm/auto.py:21: TqdmWarning: IProgress not found. Please update jupyter and ipywidgets. See https://ipywidgets.readthedocs.io/en/stable/user_install.html\n",
      "  from .autonotebook import tqdm as notebook_tqdm\n"
     ]
    }
   ],
   "source": [
    "# IMPORT THE LIBRARIES HERE\n",
    "!pip install transformers\n",
    "!pip install torch\n",
    "!pip install transliterate\n",
    "!pip install sentencepiece\n",
    "import os\n",
    "import shutil\n",
    "import sys\n",
    "import pandas as pd\n",
    "from transformers import BertTokenizer, BertModel, BertConfig\n",
    "import torch.nn as nn\n",
    "from torch.nn.utils.rnn import pad_sequence\n",
    "from torch.utils.data import Dataset, DataLoader\n",
    "import torch\n",
    "from torch.optim import Adam\n",
    "import torch.nn.functional as F\n",
    "from transliterate import translit, get_available_language_codes\n",
    "from transformers import T5Tokenizer, T5ForConditionalGeneration, AdamW\n",
    "import torch\n",
    "import sentencepiece\n",
    "import matplotlib.pyplot as plt"
   ]
  },
  {
   "cell_type": "code",
   "execution_count": 2,
   "metadata": {
    "id": "2ovQjQW5V2Zn"
   },
   "outputs": [],
   "source": [
    "#setup for GDrive\n",
    "# #@title SELECT USER to mount the data drive according to its path in your drive\n",
    "# USER = 'Georgiy' #@param ['Georgiy', 'Steven', 'Oluwafemi']\n",
    "\n",
    "# #@title Mount GDrive\n",
    "# from google.colab import drive\n",
    "# drive.mount('/content/drive', force_remount=True)\n",
    "# #remove cache\n",
    "# !rm -rf \"/content/drive/MyDrive/NLP_266/__pycache__\"\n",
    "\n",
    "# #@title Set PATH to /data/ folder\n",
    "# PATHS = {}\n",
    "# PATHS['Georgiy'] = \"/content/drive/MyDrive/NLP_266\"\n",
    "# PATHS['Steven'] = \"/content/drive/Shareddrives/PathForSteven\"  # Replace with the actual path\n",
    "# PATHS['Oluwafemi'] = \"/content/drive/Shareddrives/PathForOluwafemi\"  # Replace with the actual path\n",
    "# PATH = PATHS[USER]\n",
    "\n",
    "# if PATH == \"\":\n",
    "#     raise ValueError(\"Enter your path to the shared data folder.\\nIt should start with 'content/drive/...' and end with '.../281 Final Project/data/\")\n"
   ]
  },
  {
   "cell_type": "code",
   "execution_count": 3,
   "metadata": {
    "id": "nD6I0mNzQjqj"
   },
   "outputs": [],
   "source": [
    "# # Import Lin B from NeuroDecipher https://github.com/j-luo93/NeuroDecipher\n",
    "#only run this if the NeuroDecipher folder is empty\n",
    "# folder_path = 'NeuroDecipher'\n",
    "\n",
    "# if os.path.exists(folder_path):\n",
    "#    shutil.rmtree(folder_path)\n",
    "#    print(f\"The folder '{folder_path}' has been removed.\")\n",
    "# else:\n",
    "#    print(f\"The folder '{folder_path}' does not exist.\")\n",
    "\n",
    "# !git clone https://github.com/j-luo93/NeuroDecipher\n",
    "# !git submodule init && git submodule update\n",
    "# !pip install torch torchvision torchaudio\n",
    "# !cd NeuroDecipher && pip install -r requirements.txt\n",
    "# !cd NeuroDecipher && pip install .\n",
    "# !cd NeuroDecipher/arglib && ls\n",
    "# !cd NeuroDecipher/editdistance && pip install .\n",
    "# !cd NeuroDecipher/arglib && pip install .\n",
    "# !cd NeuroDecipher/dev_misc && pip install -r requirements.txt\n",
    "# !cd NeuroDecipher/dev_misc && pip install ."
   ]
  },
  {
   "cell_type": "markdown",
   "metadata": {
    "id": "jvdwnoAuQ7qi"
   },
   "source": [
    "## LOAD THE DATA\n",
    "\n",
    "Load the data from https://github.com/j-luo93/NeuroDecipher.\n",
    "\n",
    "Each .cog file is essentially a tsv file, where each column corresponds to the words in one language. Words in the same row are considered cognates. If for one word, there is no corresponding cognate in another language, _ is used to fill the cell. If multiple cognates are available for the same word, '|' is used to separate them.\n"
   ]
  },
  {
   "cell_type": "code",
   "execution_count": 2,
   "metadata": {
    "id": "pms31bkmRAHd",
    "outputId": "31fe6d17-33ce-4c67-95b3-f6956a0d691f"
   },
   "outputs": [
    {
     "name": "stdout",
     "output_type": "stream",
     "text": [
      "Loaded Linear B Cognates before modifications:\n",
      "     linear_b              greek\n",
      "0      𐀀𐀁𐀪𐀦𐀲          αελιποτας\n",
      "1       𐀀𐀁𐀴𐀵     αεθιστος|εθιζω\n",
      "2       𐀀𐀅𐀔𐀃      αδαμαο|αδαμας\n",
      "3       𐀀𐀅𐀕𐀸  αδαμεfεις|αδαμευς\n",
      "4      𐀀𐀅𐀨𐀴𐀍          αδραστιος\n",
      "..       ...                ...\n",
      "914     𐁆𐀯𐀊𐀒          φυσιαρχος\n",
      "915       𐁆𐀳              φυτερ\n",
      "916     𐁆𐀳𐀪𐀊            φυτερια\n",
      "917   𐁆𐁈𐀀𐀐𐀩𐀄       φυλιαςαγρευς\n",
      "918       𐁇𐀜             φτενοι\n",
      "\n",
      "[919 rows x 2 columns]\n",
      "Loaded Linear B Names before modifications:\n",
      "     linear_b              greek\n",
      "0      𐀀𐀁𐀪𐀦𐀲          αελιποτας\n",
      "1       𐀀𐀁𐀴𐀵                  _\n",
      "2       𐀀𐀅𐀔𐀃      αδαμαο|αδαμας\n",
      "3       𐀀𐀅𐀕𐀸  αδαμεfεις|αδαμευς\n",
      "4      𐀀𐀅𐀨𐀴𐀍          αδραστιος\n",
      "..       ...                ...\n",
      "914     𐁆𐀯𐀊𐀒          φυσιαρχος\n",
      "915       𐁆𐀳                  _\n",
      "916     𐁆𐀳𐀪𐀊                  _\n",
      "917   𐁆𐁈𐀀𐀐𐀩𐀄       φυλιαςαγρευς\n",
      "918       𐁇𐀜                  _\n",
      "\n",
      "[919 rows x 2 columns]\n"
     ]
    }
   ],
   "source": [
    "# Load the data into a pandas DataFrame\n",
    "file_path = 'NeuroDecipher/data/linear_b-greek.cog'\n",
    "file_path_names = 'NeuroDecipher/data/linear_b-greek.names.cog'\n",
    "data_linearb = pd.read_csv(file_path, sep='\\t', header=0)\n",
    "data_linearb_names = pd.read_csv(file_path_names, sep='\\t', header=0)\n",
    "\n",
    "# Print data for testing\n",
    "print('Loaded Linear B Cognates before modifications:\\n', data_linearb)\n",
    "print('Loaded Linear B Names before modifications:\\n', data_linearb_names)"
   ]
  },
  {
   "cell_type": "markdown",
   "metadata": {
    "id": "dg7KzeerYJdV"
   },
   "source": [
    "## DATA MODIFICATION\n",
    "\n",
    "- Do we split the data into individual letters?\n",
    "\n",
    "- INstead of columns for cog 1 / cog 2, turn it into rows -> increases dataset size\n",
    "- turn empty rows into test/train\n",
    "\n"
   ]
  },
  {
   "cell_type": "code",
   "execution_count": 3,
   "metadata": {
    "id": "HdD7NquyYRzk",
    "outputId": "66abc283-72b0-4b91-c410-bb249ecf938f"
   },
   "outputs": [
    {
     "name": "stdout",
     "output_type": "stream",
     "text": [
      "           0        1     2     3     4\n",
      "0  αελιποτας     None  None  None  None\n",
      "1          _     None  None  None  None\n",
      "2     αδαμαο   αδαμας  None  None  None\n",
      "3  αδαμεfεις  αδαμευς  None  None  None\n",
      "4  αδραστιος     None  None  None  None\n"
     ]
    }
   ],
   "source": [
    "# @title Modify the Data\n",
    "\n",
    "# LINEAR B COGNATES\n",
    "\n",
    "# Renaming the original greek column to track the original\n",
    "data_linearb.rename(columns={'greek': 'greek_original'}, inplace=True)\n",
    "# Split the 'Greek' col into 2\n",
    "split_columns = data_linearb['greek_original'].str.split('|', expand=True)\n",
    "\n",
    "# Assigning split cols\n",
    "data_linearb['greek_cog_1'] = split_columns[0]\n",
    "data_linearb['greek_cog_2'] = split_columns[1].fillna('')\n",
    "data_linearb['greek_cog_3'] = split_columns[2].fillna('')\n",
    "data_linearb['greek_cog_4'] = split_columns[3].fillna('')\n",
    "data_linearb['greek_cog_5'] = split_columns[4].fillna('')\n",
    "\n",
    "# LINEAR B NAMES\n",
    "\n",
    "data_linearb_names.rename(columns={'greek': 'greek_original'}, inplace=True)\n",
    "# Split the 'Greek' col into 2\n",
    "split_columns = data_linearb_names['greek_original'].str.split('|', expand=True)\n",
    "print(split_columns.head()) #max: 5\n",
    "# Assigning split cols\n",
    "data_linearb_names['greek_cog_1'] = split_columns[0]\n",
    "data_linearb_names['greek_cog_2'] = split_columns[1].fillna('')\n",
    "data_linearb_names['greek_cog_3'] = split_columns[2].fillna('')\n",
    "data_linearb_names['greek_cog_4'] = split_columns[3].fillna('')\n",
    "data_linearb_names['greek_cog_5'] = split_columns[4].fillna('')\n",
    "# Replace all _ with blank space\n",
    "data_linearb_names.replace('_', '', inplace=True)\n",
    "\n"
   ]
  },
  {
   "cell_type": "code",
   "execution_count": 4,
   "metadata": {},
   "outputs": [],
   "source": [
    "\n",
    "assert(len(data_linearb)==len(data_linearb_names))\n",
    "data_linearb_split=[]\n",
    "data_linearb_names_split=[]\n",
    "for i in range(len(data_linearb)):\n",
    "    #fill linear B\n",
    "    temp=[data_linearb[\"linear_b\"].iloc[i],data_linearb[\"greek_cog_1\"].iloc[i]]\n",
    "    data_linearb_split.append(temp)\n",
    "    if data_linearb[\"greek_cog_2\"].iloc[i]!=\"\":\n",
    "        data_linearb_split.append([data_linearb[\"linear_b\"].iloc[i],data_linearb[\"greek_cog_2\"].iloc[i]])\n",
    "    if data_linearb[\"greek_cog_3\"].iloc[i]!=\"\":\n",
    "        data_linearb_split.append([data_linearb[\"linear_b\"].iloc[i],data_linearb[\"greek_cog_3\"].iloc[i]])\n",
    "    if data_linearb[\"greek_cog_4\"].iloc[i]!=\"\":\n",
    "        data_linearb_split.append([data_linearb[\"linear_b\"].iloc[i],data_linearb[\"greek_cog_4\"].iloc[i]])\n",
    "    if data_linearb[\"greek_cog_5\"].iloc[i]!=\"\":\n",
    "        data_linearb_split.append([data_linearb[\"linear_b\"].iloc[i],data_linearb[\"greek_cog_5\"].iloc[i]])\n",
    "    #fill linear B names\n",
    "    temp=[data_linearb_names[\"linear_b\"].iloc[i],data_linearb_names[\"greek_cog_1\"].iloc[i]]\n",
    "    data_linearb_names_split.append(temp)\n",
    "    if data_linearb_names[\"greek_cog_2\"].iloc[i]!=\"\":\n",
    "        data_linearb_names_split.append([data_linearb_names[\"linear_b\"].iloc[i],data_linearb_names[\"greek_cog_2\"].iloc[i]])\n",
    "    if data_linearb_names[\"greek_cog_3\"].iloc[i]!=\"\":\n",
    "        data_linearb_names_split.append([data_linearb[\"linear_b\"].iloc[i],data_linearb[\"greek_cog_3\"].iloc[i]])\n",
    "    if data_linearb_names[\"greek_cog_4\"].iloc[i]!=\"\":\n",
    "        data_linearb_names_split.append([data_linearb[\"linear_b\"].iloc[i],data_linearb[\"greek_cog_4\"].iloc[i]])\n",
    "    if data_linearb_names[\"greek_cog_5\"].iloc[i]!=\"\":\n",
    "        data_linearb_names_split.append([data_linearb[\"linear_b\"].iloc[i],data_linearb[\"greek_cog_5\"].iloc[i]])\n",
    "data_linearb_split=pd.DataFrame(data_linearb_split,columns=[\"linear_b\",\"greek\"])\n",
    "data_linearb_names_split=pd.DataFrame(data_linearb_names_split,columns=[\"linear_b\",\"greek\"])\n",
    "\n"
   ]
  },
  {
   "cell_type": "code",
   "execution_count": 7,
   "metadata": {},
   "outputs": [
    {
     "name": "stdout",
     "output_type": "stream",
     "text": [
      "Original: 919 lines\n",
      "  linear_b     greek_original greek_cog_1 greek_cog_2 greek_cog_3 greek_cog_4   \n",
      "0    𐀀𐀁𐀪𐀦𐀲          αελιποτας   αελιποτας                                      \\\n",
      "1     𐀀𐀁𐀴𐀵     αεθιστος|εθιζω    αεθιστος       εθιζω                           \n",
      "2     𐀀𐀅𐀔𐀃      αδαμαο|αδαμας      αδαμαο      αδαμας                           \n",
      "3     𐀀𐀅𐀕𐀸  αδαμεfεις|αδαμευς   αδαμεfεις     αδαμευς                           \n",
      "4    𐀀𐀅𐀨𐀴𐀍          αδραστιος   αδραστιος                                       \n",
      "\n",
      "  greek_cog_5  \n",
      "0              \n",
      "1              \n",
      "2              \n",
      "3              \n",
      "4               \n",
      "\n",
      "Split: 1429 lines\n",
      "  linear_b      greek\n",
      "0    𐀀𐀁𐀪𐀦𐀲  αελιποτας\n",
      "1     𐀀𐀁𐀴𐀵   αεθιστος\n",
      "2     𐀀𐀁𐀴𐀵      εθιζω\n",
      "3     𐀀𐀅𐀔𐀃     αδαμαο\n",
      "4     𐀀𐀅𐀔𐀃     αδαμας \n",
      "\n",
      "Value: 𐀩𐀺 Split Count: [5] Original Count: 7\n",
      "Value: 𐀵𐀥𐀆 Split Count: [5] Original Count: 6\n",
      "\n",
      "We have 917 matches.\n"
     ]
    }
   ],
   "source": [
    "# Counting Linear B original dataset and split dataset.\n",
    "\n",
    "print(\"Original:\",len(data_linearb),\"lines\")\n",
    "print(data_linearb.head(),'\\n')\n",
    "print(\"Split:\",len(data_linearb_split),\"lines\")\n",
    "print(data_linearb_split.head(),'\\n')\n",
    "\n",
    "##########################\n",
    "###### SANITY CHECK ######\n",
    "##########################\n",
    "\n",
    "data_linearb_split_count = data_linearb_split[\"linear_b\"].value_counts().reset_index()\n",
    "data_linearb_split_count.columns = [\"linear_b\", \"count\"]\n",
    "# print(data_linearb_split_count)\n",
    "\n",
    "# Count how many greek definitions each linear b value has in the original table, separeted by '|'\n",
    "data_linearb_count = data_linearb[\"greek_original\"].apply(lambda x: 0 if pd.isna(x) else (1 if '|' not in x else x.count('|') + 1))\n",
    "data_linearb_count = pd.DataFrame({\"linear_b\": data_linearb[\"linear_b\"], \"count\": data_linearb_count})\n",
    "# print(data_linearb_count)\n",
    "\n",
    "# The values should match. If they don't, print out the rows that don't match. Otherwise, print out the number of matches.\n",
    "match_count = 0\n",
    "for index, row in data_linearb_count.iterrows():\n",
    "    split_count = data_linearb_split_count[data_linearb_split_count['linear_b'] == row['linear_b']]['count'].values\n",
    "    original_count = row['count']\n",
    "    if split_count != original_count:\n",
    "        print(\"Value:\", row['linear_b'], \"Split Count:\", split_count, \"Original Count:\", original_count)\n",
    "    else:\n",
    "        match_count += 1\n",
    "print(f\"\\nWe have {match_count} matches.\")"
   ]
  },
  {
   "cell_type": "code",
   "execution_count": 5,
   "metadata": {},
   "outputs": [
    {
     "name": "stdout",
     "output_type": "stream",
     "text": [
      "Original: 919 lines\n",
      "  linear_b     greek_original greek_cog_1 greek_cog_2 greek_cog_3 greek_cog_4  \\\n",
      "0    𐀀𐀁𐀪𐀦𐀲          αελιποτας   αελιποτας                                       \n",
      "1     𐀀𐀁𐀴𐀵                                                                      \n",
      "2     𐀀𐀅𐀔𐀃      αδαμαο|αδαμας      αδαμαο      αδαμας                           \n",
      "3     𐀀𐀅𐀕𐀸  αδαμεfεις|αδαμευς   αδαμεfεις     αδαμευς                           \n",
      "4    𐀀𐀅𐀨𐀴𐀍          αδραστιος   αδραστιος                                       \n",
      "\n",
      "  greek_cog_5  \n",
      "0              \n",
      "1              \n",
      "2              \n",
      "3              \n",
      "4              \n",
      "Split: 1069 lines\n",
      "  linear_b      greek\n",
      "0    𐀀𐀁𐀪𐀦𐀲  αελιποτας\n",
      "1     𐀀𐀁𐀴𐀵           \n",
      "2     𐀀𐀅𐀔𐀃     αδαμαο\n",
      "3     𐀀𐀅𐀔𐀃     αδαμας\n",
      "4     𐀀𐀅𐀕𐀸  αδαμεfεις\n",
      "\n",
      "We have 919 matches.\n"
     ]
    }
   ],
   "source": [
    "#Counting Linear B Names and split names.\n",
    "\n",
    "# print('\\n ------ LINEAR B NAMES -----\\n')\n",
    "print(\"Original:\",len(data_linearb_names),\"lines\")\n",
    "print(data_linearb_names.head())\n",
    "print(\"Split:\",len(data_linearb_names_split),\"lines\")\n",
    "print(data_linearb_names_split.head())\n",
    "\n",
    "##########################\n",
    "###### SANITY CHECK ######\n",
    "##########################\n",
    "\n",
    "# Count how many times each linear b value appears int he split.\n",
    "data_linearb_names_split_count = data_linearb_names_split[\"linear_b\"].value_counts().reset_index()\n",
    "data_linearb_names_split_count.columns = [\"linear_b\", \"count\"]\n",
    "# print(data_linearb_names_split_count)\n",
    "\n",
    "# Count how many greek definitions each linear b value has in the original table, separeted by '|'\n",
    "data_linearb_names_count = data_linearb_names[\"greek_original\"].apply(lambda x: 0 if pd.isna(x) else (1 if '|' not in x else x.count('|') + 1))\n",
    "data_linearb_names_count = pd.DataFrame({\"linear_b\": data_linearb_names[\"linear_b\"], \"count\": data_linearb_names_count})\n",
    "# print(data_linearb_names_count)\n",
    "\n",
    "# The values should match. If they don't, print out the rows that don't match. Otherwise, print out the number of matches.\n",
    "match_count = 0\n",
    "for index, row in data_linearb_names_count.iterrows():\n",
    "    split_count = data_linearb_names_split_count[data_linearb_names_split_count['linear_b'] == row['linear_b']]['count'].values\n",
    "    original_count = row['count']\n",
    "    if split_count != original_count:\n",
    "        print(\"Value:\", row['linear_b'], \"Split Count:\", split_count, \"Original Count:\", original_count)\n",
    "    else:\n",
    "        match_count += 1\n",
    "print(f\"\\nWe have {match_count} matches.\")\n",
    "\n"
   ]
  },
  {
   "cell_type": "code",
   "execution_count": 6,
   "metadata": {},
   "outputs": [
    {
     "name": "stdout",
     "output_type": "stream",
     "text": [
      "Checking unique values in each column:\n",
      "\n",
      "data_linearb:\n",
      "\n",
      "linear_b Unique Values: 919\n",
      "greek_original Unique Values: 918\n",
      "greek_cog_1 Unique Values: 918\n",
      "greek_cog_2 Unique Values: 388\n",
      "greek_cog_3 Unique Values: 87\n",
      "greek_cog_4 Unique Values: 28\n",
      "greek_cog_5 Unique Values: 7\n",
      "\n",
      "\n",
      "data_linearb_names:\n",
      "\n",
      "linear_b Unique Values: 919\n",
      "greek_original Unique Values: 456\n",
      "greek_cog_1 Unique Values: 456\n",
      "greek_cog_2 Unique Values: 131\n",
      "greek_cog_3 Unique Values: 16\n",
      "greek_cog_4 Unique Values: 5\n",
      "greek_cog_5 Unique Values: 2\n"
     ]
    }
   ],
   "source": [
    "print(\"Checking unique values in each column:\\n\")\n",
    "\n",
    "print(\"data_linearb:\\n\")\n",
    "for col in data_linearb.columns:\n",
    "    if not isinstance(data_linearb[col].iloc[0], list):\n",
    "        print(f\"{col} Unique Values:\", data_linearb[col].nunique())\n",
    "\n",
    "print(\"\\n\")\n",
    "\n",
    "print(\"data_linearb_names:\\n\")\n",
    "for col in data_linearb_names.columns:\n",
    "    print(f\"{col} Unique Values:\", data_linearb_names[col].nunique())"
   ]
  },
  {
   "cell_type": "code",
   "execution_count": 10,
   "metadata": {},
   "outputs": [
    {
     "data": {
      "text/plain": [
       "'\\nTODO by Sunday:\\n\\n[DONE]- Cycle through greek translations of linear B with more than 2 translations (separeted by \\'|\\' separator), create n columns where n is max count of translations in the largest row\\n\\n[DONE]- INstead of columns for cog 1 - cog n, turn it into rows -> increases dataset size \\n[DONE]- TWEAK - see above \\n[DONE]- Determine which are names and not names\\n#done- see below\\n    - For each language, create an object. In the \\n      object store data for the alphabet and the universal syllabic translation.\\n\\n\\n#OLD:\\n# - Create a mapping dict for universal character embeddings for linear b and for greek\\n#     - Create a unersal syllable matrix\\n# - Map linear b to universal syllables (matrix)\\n# - Map greek to universal syllables (matrix)\\n\\n#NEW:\\n[DONE]- Transliterate Linear B - done\\n[DONE]- Transliterate Modern Greek - done\\n\\n- Cycle through each greek word. Find word with highest \"syllabic matching\" to linear B and use that word for the model.\\n𐀀𐀇𐀪𐀊𐀠\\tανδριαντει|ανδριαφι|ανδριος|ανερ\\n\\n- turn empty rows into train/test\\n#Steven - done: see above\\n- Create a train/test split of 20/80 (50/50 distribution of names/not name cognates?)\\n\\n\\n- Identify separators for transliterated Linear B\\n  - Separators between characters; separators between words\\n\\n- UNKNOWN: separators for transliterated Greek\\n  - Q: How do we set up the model to predict this...\\n\\n- Model BART, T5\\n\\n'"
      ]
     },
     "execution_count": 10,
     "metadata": {},
     "output_type": "execute_result"
    }
   ],
   "source": [
    "\"\"\"\n",
    "TODO by Sunday:\n",
    "\n",
    "[DONE]- Cycle through greek translations of linear B with more than 2 translations (separeted by '|' separator), create n columns where n is max count of translations in the largest row\n",
    "\n",
    "[DONE]- INstead of columns for cog 1 - cog n, turn it into rows -> increases dataset size \n",
    "[DONE]- TWEAK - see above \n",
    "[DONE]- Determine which are names and not names\n",
    "#done- see below\n",
    "    - For each language, create an object. In the \n",
    "      object store data for the alphabet and the universal syllabic translation.\n",
    "\n",
    "\n",
    "#OLD:\n",
    "# - Create a mapping dict for universal character embeddings for linear b and for greek\n",
    "#     - Create a unersal syllable matrix\n",
    "# - Map linear b to universal syllables (matrix)\n",
    "# - Map greek to universal syllables (matrix)\n",
    "\n",
    "#NEW:\n",
    "[DONE]- Transliterate Linear B - done\n",
    "[DONE]- Transliterate Modern Greek - done\n",
    "\n",
    "- Cycle through each greek word. Find word with highest \"syllabic matching\" to linear B and use that word for the model.\n",
    "𐀀𐀇𐀪𐀊𐀠\tανδριαντει|ανδριαφι|ανδριος|ανερ\n",
    "\n",
    "- turn empty rows into train/test\n",
    "#Steven - done: see above\n",
    "- Create a train/test split of 20/80 (50/50 distribution of names/not name cognates?)\n",
    "\n",
    "\n",
    "- Identify separators for transliterated Linear B\n",
    "  - Separators between characters; separators between words\n",
    "\n",
    "- UNKNOWN: separators for transliterated Greek\n",
    "  - Q: How do we set up the model to predict this...\n",
    "\n",
    "- Model BART, T5\n",
    "\n",
    "\"\"\""
   ]
  },
  {
   "cell_type": "code",
   "execution_count": 7,
   "metadata": {},
   "outputs": [
    {
     "name": "stdout",
     "output_type": "stream",
     "text": [
      "aeriqota\n",
      "a<SEP>e<SEP>ri<SEP>qo<SEP>ta\n"
     ]
    }
   ],
   "source": [
    "# linear b syllabic mapping from NeuroDecipher MIT paper\n",
    "\n",
    "linb2syl = {\n",
    "    u'𐀀': 'a', u'𐀁': 'e', u'𐀂': 'i', u'𐀃': 'o', u'𐀄': 'u', u'𐀅': 'da', u'𐀆': 'de', \n",
    "    u'𐀇': 'di', u'𐀈': 'do', u'𐀉': 'du', u'𐀊': 'ja', u'𐀋': 'je', u'𐀍': 'jo', \n",
    "    u'𐀎': 'ju', u'𐀏': 'ka', u'𐀐': 'ke', u'𐀑': 'ki', u'𐀒': 'ko', u'𐀓': 'ku', \n",
    "    u'𐀔': 'ma', u'𐀕': 'me', u'𐀖': 'mi', u'𐀗': 'mo', u'𐀘': 'mu', u'𐀙': 'na', \n",
    "    u'𐀚': 'ne', u'𐀛': 'ni', u'𐀜': 'no', u'𐀝': 'nu', u'𐀞': 'pa', u'𐀟': 'pe', \n",
    "    u'𐀠': 'pi', u'𐀡': 'po', u'𐀢': 'pu', u'𐀣': 'qa', u'𐀤': 'qe', u'𐀥': 'qi', \n",
    "    u'𐀦': 'qo', u'𐀨': 'ra', u'𐀩': 're', u'𐀪': 'ri', u'𐀫': 'ro', u'𐀬': 'ru',\n",
    "    u'𐀭': 'sa', u'𐀮': 'se', u'𐀯': 'si', u'𐀰': 'so', u'𐀱': 'su', u'𐀲': 'ta', \n",
    "    u'𐀳': 'te', u'𐀴': 'ti', u'𐀵': 'to', u'𐀶': 'tu', u'𐀷': 'wa', u'𐀸': 'we', \n",
    "    u'𐀹': 'wi', u'𐀺': 'wo', u'𐀼': 'za', u'𐀽': 'ze', u'𐀿': 'zo', u'𐁀': 'a2', \n",
    "    u'𐁁': 'a3', u'𐁂': 'au', u'𐁃': 'dwe', u'𐁄': 'dwo', u'𐁅': 'nwa', u'𐁆': 'pu2', \n",
    "    u'𐁇': 'pte', u'𐁈': 'ra2', u'𐁉': 'ra3', u'𐁊': 'ro2', u'𐁋': 'ta2', u'𐁌': 'twe', u'𐁍': 'two'\n",
    "}\n",
    "\n",
    "def transliterate_linb(word, dic, sep=None):\n",
    "    \"\"\"Transliterate Linear B characters into syllables.\"\"\"\n",
    "    \n",
    "    res=\"\" #result\n",
    "\n",
    "    # Cycle through each character in the Linear B word\n",
    "    for i, ch in enumerate(word):\n",
    "        # translation is the value for that character's key in the mapping dictionary\n",
    "        trans = dic[ch]\n",
    "        res += trans\n",
    "\n",
    "        # Add separator after each character except the last\n",
    "        if sep is not None and i < len(word) - 1:\n",
    "            res += sep\n",
    "\n",
    "    return res\n",
    "\n",
    "#test\n",
    "print(transliterate_linb(\"𐀀𐀁𐀪𐀦𐀲\",linb2syl))\n",
    "print(transliterate_linb(\"𐀀𐀁𐀪𐀦𐀲\",linb2syl,sep='<SEP>'))"
   ]
  },
  {
   "cell_type": "code",
   "execution_count": 8,
   "metadata": {},
   "outputs": [
    {
     "name": "stdout",
     "output_type": "stream",
     "text": [
      "Current names dataset: 1069\n",
      "  linear_b      greek  Name\n",
      "0    𐀀𐀁𐀪𐀦𐀲  αελιποτας     1\n",
      "1     𐀀𐀁𐀴𐀵                0\n",
      "2     𐀀𐀅𐀔𐀃     αδαμαο     1\n",
      "3     𐀀𐀅𐀔𐀃     αδαμας     1\n",
      "4     𐀀𐀅𐀕𐀸  αδαμεfεις     1\n",
      "\n",
      "Current non-names dataset: 1429\n",
      "  linear_b      greek  Name\n",
      "0    𐀀𐀁𐀪𐀦𐀲  αελιποτας     1\n",
      "1     𐀀𐀁𐀴𐀵   αεθιστος     0\n",
      "2     𐀀𐀁𐀴𐀵      εθιζω     0\n",
      "3     𐀀𐀅𐀔𐀃     αδαμαο     1\n",
      "4     𐀀𐀅𐀔𐀃     αδαμας     1\n"
     ]
    }
   ],
   "source": [
    "#put binary inside the split name data of whether the linear b value is a name or not. \n",
    "\n",
    "def name(row):\n",
    "    if row[\"greek\"]==\"\":\n",
    "        return 0\n",
    "    return 1\n",
    "data_linearb_names_split[\"Name\"]=data_linearb_names_split.apply(name,axis=1)\n",
    "print(\"Current names dataset:\", len(data_linearb_names_split))\n",
    "print(data_linearb_names_split.head())\n",
    "\n",
    "#apply to the original, non-name dataset as well\n",
    "name_binary=[]\n",
    "for i in range(len(data_linearb_split)):\n",
    "    cur_linearb=data_linearb_split[\"linear_b\"].iloc[i]\n",
    "    corresponding_name=data_linearb_names_split[data_linearb_names_split[\"linear_b\"]==cur_linearb][\"greek\"].iloc[0]\n",
    "    if corresponding_name==\"\":\n",
    "        name_binary.append(0)\n",
    "    else: \n",
    "        name_binary.append(1)\n",
    "print(\"\\nCurrent non-names dataset:\", len(data_linearb_split))\n",
    "data_linearb_split[\"Name\"]=name_binary\n",
    "print(data_linearb_split.head())\n",
    "        "
   ]
  },
  {
   "cell_type": "code",
   "execution_count": 9,
   "metadata": {},
   "outputs": [],
   "source": [
    "#Transliterate Linear B Names \n",
    "\n",
    "# Create clean lists to store data\n",
    "greek_transliterate=[]\n",
    "greek_transliterate_names=[]\n",
    "from transliterate import translit, get_available_language_codes\n",
    "\n",
    "# Cycle through the dataset with the names\n",
    "for i in range(len(data_linearb_names_split)):\n",
    "    \n",
    "    #if blank, leave blank\n",
    "    if data_linearb_names_split[\"greek\"].iloc[i]==\"\":\n",
    "        greek_transliterate_names.append(\"\")\n",
    "    \n",
    "    #if not blank, transliterate\n",
    "    else:\n",
    "        greek_transliterate_names.append(translit(data_linearb_names_split[\"greek\"].iloc[i], reversed=True))\n",
    "\n",
    "# Cycle through the dataset with the non-names\n",
    "for i in range(len(data_linearb_split)):\n",
    "    \n",
    "    #if blank, leave blank\n",
    "    if data_linearb_split[\"greek\"].iloc[i]==\"\":\n",
    "        greek_transliterate.append(\"\")\n",
    "    \n",
    "    #if not blank, transliterate\n",
    "    else:\n",
    "        greek_transliterate.append(translit(data_linearb_split[\"greek\"].iloc[i], reversed=True))\n"
   ]
  },
  {
   "cell_type": "code",
   "execution_count": 10,
   "metadata": {},
   "outputs": [],
   "source": [
    "#Transliterate Greek names\n",
    "\n",
    "# Create clean lists to store data\n",
    "linearb_transliterate=[]\n",
    "linearb_transliterate_names=[]\n",
    "\n",
    "# Cycle through the dataset with the names\n",
    "for i in range(len(data_linearb_names_split)):\n",
    "    \n",
    "    #if blank, leave blank\n",
    "    if data_linearb_names_split[\"linear_b\"].iloc[i]==\"\":linearb_transliterate_names.append(\"\")\n",
    "\n",
    "    #if not blank, transliterate\n",
    "    else:linearb_transliterate_names.append(transliterate_linb(data_linearb_names_split[\"linear_b\"].iloc[i], linb2syl))\n",
    "\n",
    "# Cycle through the dataset with the non-names\n",
    "for i in range(len(data_linearb_split)):\n",
    "    \n",
    "    #if blank, leave blank\n",
    "    if data_linearb_split[\"linear_b\"].iloc[i]==\"\":linearb_transliterate.append(\"\")\n",
    "    \n",
    "    #if not blank, transliterate\n",
    "    else:linearb_transliterate.append(transliterate_linb(data_linearb_split[\"linear_b\"].iloc[i], linb2syl))\n",
    "\n"
   ]
  },
  {
   "cell_type": "code",
   "execution_count": 11,
   "metadata": {},
   "outputs": [
    {
     "name": "stdout",
     "output_type": "stream",
     "text": [
      "  linear_b      greek  Name greek_transliterate linear_b_transliterate\n",
      "0    𐀀𐀁𐀪𐀦𐀲  αελιποτας     1           aelipotas               aeriqota\n",
      "1     𐀀𐀁𐀴𐀵   αεθιστος     0           aethistos                 aetito\n",
      "2     𐀀𐀁𐀴𐀵      εθιζω     0              ethizo                 aetito\n",
      "3     𐀀𐀅𐀔𐀃     αδαμαο     1              adamao                 adamao\n",
      "4     𐀀𐀅𐀔𐀃     αδαμας     1              adamas                 adamao\n",
      "  linear_b      greek  Name greek_transliterate linear_b_transliterate\n",
      "0    𐀀𐀁𐀪𐀦𐀲  αελιποτας     1           aelipotas               aeriqota\n",
      "1     𐀀𐀁𐀴𐀵                0                                     aetito\n",
      "2     𐀀𐀅𐀔𐀃     αδαμαο     1              adamao                 adamao\n",
      "3     𐀀𐀅𐀔𐀃     αδαμας     1              adamas                 adamao\n",
      "4     𐀀𐀅𐀕𐀸  αδαμεfεις     1           adamefeis                adamewe\n"
     ]
    }
   ],
   "source": [
    "assert(len(greek_transliterate)==len(data_linearb_split))\n",
    "assert(len(greek_transliterate_names)==len(data_linearb_names_split))\n",
    "data_linearb_split[\"greek_transliterate\"]=greek_transliterate\n",
    "data_linearb_names_split[\"greek_transliterate\"]=greek_transliterate_names\n",
    "data_linearb_split[\"linear_b_transliterate\"]=linearb_transliterate\n",
    "data_linearb_names_split[\"linear_b_transliterate\"]=linearb_transliterate_names\n",
    "print(data_linearb_split.head())\n",
    "print(data_linearb_names_split.head())"
   ]
  },
  {
   "cell_type": "code",
   "execution_count": 12,
   "metadata": {},
   "outputs": [
    {
     "name": "stdout",
     "output_type": "stream",
     "text": [
      "  linear_b      greek  Name greek_transliterate linear_b_transliterate  \\\n",
      "0    𐀀𐀁𐀪𐀦𐀲  αελιποτας     1           aelipotas               aeriqota   \n",
      "1     𐀀𐀁𐀴𐀵   αεθιστος     0           aethistos                 aetito   \n",
      "2     𐀀𐀁𐀴𐀵      εθιζω     0              ethizo                 aetito   \n",
      "3     𐀀𐀅𐀔𐀃     αδαμαο     1              adamao                 adamao   \n",
      "4     𐀀𐀅𐀔𐀃     αδαμας     1              adamas                 adamao   \n",
      "\n",
      "                linear_b_sep   linear_b_transliterated_sep  \n",
      "0  𐀀<SEP>𐀁<SEP>𐀪<SEP>𐀦<SEP>𐀲  a<SEP>e<SEP>ri<SEP>qo<SEP>ta  \n",
      "1        𐀀<SEP>𐀁<SEP>𐀴<SEP>𐀵         a<SEP>e<SEP>ti<SEP>to  \n",
      "2        𐀀<SEP>𐀁<SEP>𐀴<SEP>𐀵         a<SEP>e<SEP>ti<SEP>to  \n",
      "3        𐀀<SEP>𐀅<SEP>𐀔<SEP>𐀃         a<SEP>da<SEP>ma<SEP>o  \n",
      "4        𐀀<SEP>𐀅<SEP>𐀔<SEP>𐀃         a<SEP>da<SEP>ma<SEP>o  \n",
      "  linear_b      greek  Name greek_transliterate linear_b_transliterate  \\\n",
      "0    𐀀𐀁𐀪𐀦𐀲  αελιποτας     1           aelipotas               aeriqota   \n",
      "1     𐀀𐀁𐀴𐀵                0                                     aetito   \n",
      "2     𐀀𐀅𐀔𐀃     αδαμαο     1              adamao                 adamao   \n",
      "3     𐀀𐀅𐀔𐀃     αδαμας     1              adamas                 adamao   \n",
      "4     𐀀𐀅𐀕𐀸  αδαμεfεις     1           adamefeis                adamewe   \n",
      "\n",
      "                linear_b_sep   linear_b_transliterated_sep  \n",
      "0  𐀀<SEP>𐀁<SEP>𐀪<SEP>𐀦<SEP>𐀲  a<SEP>e<SEP>ri<SEP>qo<SEP>ta  \n",
      "1        𐀀<SEP>𐀁<SEP>𐀴<SEP>𐀵         a<SEP>e<SEP>ti<SEP>to  \n",
      "2        𐀀<SEP>𐀅<SEP>𐀔<SEP>𐀃         a<SEP>da<SEP>ma<SEP>o  \n",
      "3        𐀀<SEP>𐀅<SEP>𐀔<SEP>𐀃         a<SEP>da<SEP>ma<SEP>o  \n",
      "4        𐀀<SEP>𐀅<SEP>𐀕<SEP>𐀸        a<SEP>da<SEP>me<SEP>we  \n"
     ]
    }
   ],
   "source": [
    "# Introduce separators for Linear B\n",
    "\n",
    "data_linearb_split['linear_b_sep'] = data_linearb_split['linear_b'].apply(lambda x: '<SEP>'.join(list(x)))\n",
    "data_linearb_names_split['linear_b_sep'] = data_linearb_names_split['linear_b'].apply(lambda x: '<SEP>'.join(list(x)))\n",
    "\n",
    "data_linearb_split['linear_b_transliterated_sep'] = data_linearb_split['linear_b'].apply(lambda x: transliterate_linb(x, linb2syl, sep='<SEP>'))\n",
    "data_linearb_names_split['linear_b_transliterated_sep'] = data_linearb_names_split['linear_b'].apply(lambda x: transliterate_linb(x, linb2syl, sep='<SEP>'))\n",
    "\n",
    "print(data_linearb_split.head())\n",
    "print(data_linearb_names_split.head())"
   ]
  },
  {
   "cell_type": "markdown",
   "metadata": {},
   "source": []
  },
  {
   "cell_type": "markdown",
   "metadata": {
    "id": "Gn1-3Fg_Xyws"
   },
   "source": [
    "## EXPLORATORY DATA ANALYSIS\n",
    "\n",
    "Analyze the dataset features.\n"
   ]
  },
  {
   "cell_type": "code",
   "execution_count": 13,
   "metadata": {
    "id": "DlKUCwmpX5zR",
    "outputId": "b2a34baa-18a4-4f21-dd4f-c838c4de7690"
   },
   "outputs": [
    {
     "name": "stdout",
     "output_type": "stream",
     "text": [
      "\n",
      "----- DESCRIBING THE NON-NAME DATA: -----\n",
      "\n",
      "              Name\n",
      "count  1429.000000\n",
      "mean      0.433170\n",
      "std       0.495687\n",
      "min       0.000000\n",
      "25%       0.000000\n",
      "50%       0.000000\n",
      "75%       1.000000\n",
      "max       1.000000\n",
      "\n",
      "----- INFO: -----\n",
      "\n",
      "<class 'pandas.core.frame.DataFrame'>\n",
      "RangeIndex: 1429 entries, 0 to 1428\n",
      "Data columns (total 7 columns):\n",
      " #   Column                       Non-Null Count  Dtype \n",
      "---  ------                       --------------  ----- \n",
      " 0   linear_b                     1429 non-null   object\n",
      " 1   greek                        1429 non-null   object\n",
      " 2   Name                         1429 non-null   int64 \n",
      " 3   greek_transliterate          1429 non-null   object\n",
      " 4   linear_b_transliterate       1429 non-null   object\n",
      " 5   linear_b_sep                 1429 non-null   object\n",
      " 6   linear_b_transliterated_sep  1429 non-null   object\n",
      "dtypes: int64(1), object(6)\n",
      "memory usage: 78.3+ KB\n",
      "None\n",
      "\n",
      "----- CHECKING FOR MISSING VALUES: -----\n",
      "\n",
      "linear_b                       0\n",
      "greek                          0\n",
      "Name                           0\n",
      "greek_transliterate            0\n",
      "linear_b_transliterate         0\n",
      "linear_b_sep                   0\n",
      "linear_b_transliterated_sep    0\n",
      "dtype: int64\n",
      "\n",
      "----- CHECKING UNIQUE VALUES: -----\n",
      "\n"
     ]
    }
   ],
   "source": [
    "# Basic statistics and exploration\n",
    "\n",
    "print('\\n----- DESCRIBING THE NON-NAME DATA: -----\\n')\n",
    "print(data_linearb_split.describe())\n",
    "\n",
    "print('\\n----- INFO: -----\\n')\n",
    "print(data_linearb_split.info())\n",
    "\n",
    "# Check for missing values\n",
    "print('\\n----- CHECKING FOR MISSING VALUES: -----\\n')\n",
    "print(data_linearb_split.isnull().sum())\n",
    "\n",
    "# Explore unique values and frequency distribution\n",
    "print('\\n----- CHECKING UNIQUE VALUES: -----\\n')\n",
    "# print(data_linearb_split['linear_b'].value_counts())\n",
    "# print(data_linearb['greek_original'].value_counts())\n",
    "# print(data_linearb['greek_cog_1'].value_counts())\n",
    "# print(data_linearb['greek_cog_2'].value_counts())\n"
   ]
  },
  {
   "cell_type": "code",
   "execution_count": 14,
   "metadata": {
    "id": "EOtKu8kMS03N",
    "outputId": "e35b3c79-63f0-48be-ad06-50ff082cdbef"
   },
   "outputs": [
    {
     "name": "stdout",
     "output_type": "stream",
     "text": [
      "\n",
      "----- DESCRIBING THE NAMES DATA: -----\n",
      "\n",
      "              Name\n",
      "count  1069.000000\n",
      "mean      0.565949\n",
      "std       0.495864\n",
      "min       0.000000\n",
      "25%       0.000000\n",
      "50%       1.000000\n",
      "75%       1.000000\n",
      "max       1.000000\n",
      "\n",
      "----- INFO: -----\n",
      "\n",
      "<class 'pandas.core.frame.DataFrame'>\n",
      "RangeIndex: 1069 entries, 0 to 1068\n",
      "Data columns (total 7 columns):\n",
      " #   Column                       Non-Null Count  Dtype \n",
      "---  ------                       --------------  ----- \n",
      " 0   linear_b                     1069 non-null   object\n",
      " 1   greek                        1069 non-null   object\n",
      " 2   Name                         1069 non-null   int64 \n",
      " 3   greek_transliterate          1069 non-null   object\n",
      " 4   linear_b_transliterate       1069 non-null   object\n",
      " 5   linear_b_sep                 1069 non-null   object\n",
      " 6   linear_b_transliterated_sep  1069 non-null   object\n",
      "dtypes: int64(1), object(6)\n",
      "memory usage: 58.6+ KB\n",
      "None\n",
      "\n",
      "----- CHECKING FOR MISSING VALUES: -----\n",
      "\n",
      "linear_b                       0\n",
      "greek                          0\n",
      "Name                           0\n",
      "greek_transliterate            0\n",
      "linear_b_transliterate         0\n",
      "linear_b_sep                   0\n",
      "linear_b_transliterated_sep    0\n",
      "dtype: int64\n",
      "\n",
      "----- CHECKING UNIQUE VALUES: -----\n",
      "\n"
     ]
    }
   ],
   "source": [
    "print('\\n----- DESCRIBING THE NAMES DATA: -----\\n')\n",
    "print(data_linearb_names_split.describe())\n",
    "\n",
    "print('\\n----- INFO: -----\\n')\n",
    "print(data_linearb_names_split.info())\n",
    "\n",
    "# Check for missing values\n",
    "print('\\n----- CHECKING FOR MISSING VALUES: -----\\n')\n",
    "print(data_linearb_names_split.isnull().sum())\n",
    "\n",
    "# Explore unique values and frequency distribution\n",
    "print('\\n----- CHECKING UNIQUE VALUES: -----\\n')\n",
    "# print(data_linearb_names_split['linear_b'].value_counts())\n",
    "# print(data_linearb_names_split['greek_original'].value_counts())\n",
    "# print(data_linearb_names_split['greek_cog_1'].value_counts())\n",
    "# print(data_linearb_names_split['greek_cog_2'].value_counts())"
   ]
  },
  {
   "cell_type": "markdown",
   "metadata": {
    "id": "KFOJEmRTS03O"
   },
   "source": [
    "## SPLITTING & TOKENIZATION\n",
    "\n",
    "- Create a train and test set.\n",
    "    - The train will contain the dataset where each Linear B name has a Greek name match.\n",
    "    - The test set will contain the dataset where Linear B has no Greek name match.\n",
    "- For each model, we need to create a separate tokenizer.\n",
    "    - We create a copy of the train/test set and tokenize for T5.\n",
    "    - We create a copy of the train/test set and tokenize for Bert."
   ]
  },
  {
   "cell_type": "code",
   "execution_count": 15,
   "metadata": {
    "id": "6UvDXgERS03M",
    "outputId": "532648f0-a511-442d-8eb7-84cd3f65a77d"
   },
   "outputs": [
    {
     "name": "stdout",
     "output_type": "stream",
     "text": [
      "linearb_names_train: 605\n",
      "  linear_b      greek  Name greek_transliterate linear_b_transliterate  \\\n",
      "0    𐀀𐀁𐀪𐀦𐀲  αελιποτας     1           aelipotas               aeriqota   \n",
      "2     𐀀𐀅𐀔𐀃     αδαμαο     1              adamao                 adamao   \n",
      "\n",
      "                linear_b_sep   linear_b_transliterated_sep  \n",
      "0  𐀀<SEP>𐀁<SEP>𐀪<SEP>𐀦<SEP>𐀲  a<SEP>e<SEP>ri<SEP>qo<SEP>ta  \n",
      "2        𐀀<SEP>𐀅<SEP>𐀔<SEP>𐀃         a<SEP>da<SEP>ma<SEP>o  \n",
      "linearb_names_test: 464\n",
      "  linear_b greek  Name greek_transliterate linear_b_transliterate  \\\n",
      "1     𐀀𐀁𐀴𐀵           0                                     aetito   \n",
      "7      𐀀𐀆𐀳           0                                      adete   \n",
      "\n",
      "          linear_b_sep linear_b_transliterated_sep  \n",
      "1  𐀀<SEP>𐀁<SEP>𐀴<SEP>𐀵       a<SEP>e<SEP>ti<SEP>to  \n",
      "7        𐀀<SEP>𐀆<SEP>𐀳             a<SEP>de<SEP>te  \n"
     ]
    }
   ],
   "source": [
    "#Creating the train/test split\n",
    "\n",
    "#only need to split names into train and test for now,\n",
    "#since the names has several hundred blanks while there are no blanks in the ovr data\n",
    "\n",
    "data_linearb_names_train=data_linearb_names_split[data_linearb_names_split[\"greek\"]!=\"\"]\n",
    "data_linearb_names_test=data_linearb_names_split[data_linearb_names_split[\"greek\"]==\"\"]\n",
    "print(\"linearb_names_train:\", len(data_linearb_names_train))\n",
    "print(data_linearb_names_train.head(2))\n",
    "print(\"linearb_names_test:\", len(data_linearb_names_test))\n",
    "print(data_linearb_names_test.head(2))"
   ]
  },
  {
   "cell_type": "code",
   "execution_count": 16,
   "metadata": {},
   "outputs": [],
   "source": [
    "# Function to tokenize a column\n",
    "def tokenize_column(dataframe, column_name):\n",
    "    return dataframe[column_name].apply(lambda x: tokenizer.encode(x, add_special_tokens=True))"
   ]
  },
  {
   "cell_type": "code",
   "execution_count": 17,
   "metadata": {},
   "outputs": [
    {
     "name": "stderr",
     "output_type": "stream",
     "text": [
      "tokenizer_config.json: 100%|███████████████████████████████████████████████████████████████████| 2.32k/2.32k [00:00<00:00, 2.31MB/s]\n",
      "spiece.model: 100%|██████████████████████████████████████████████████████████████████████████████| 792k/792k [00:00<00:00, 16.3MB/s]\n",
      "tokenizer.json: 100%|██████████████████████████████████████████████████████████████████████████| 1.39M/1.39M [00:00<00:00, 52.0MB/s]\n",
      "You are using the default legacy behaviour of the <class 'transformers.models.t5.tokenization_t5.T5Tokenizer'>. This is expected, and simply means that the `legacy` (previous) behavior will be used so nothing changes for you. If you want to use the new behaviour, set `legacy=False`. This should only be set if you understand what it means, and thouroughly read the reason why this was added as explained in https://github.com/huggingface/transformers/pull/24565\n",
      "Special tokens have been added in the vocabulary, make sure the associated word embeddings are fine-tuned or trained.\n"
     ]
    }
   ],
   "source": [
    "# @Title: T5 Tokenizer\n",
    "\n",
    "# Copy datasets; separating tokenization for T5\n",
    "T5_data_linearb_names_train = data_linearb_names_train.copy()\n",
    "T5_data_linearb_names_test = data_linearb_names_test.copy()\n",
    "\n",
    "# Initialize T5 tokenizer\n",
    "tokenizer = T5Tokenizer.from_pretrained('t5-small')\n",
    "\n",
    "# Tokenizing columns in the training data\n",
    "T5_data_linearb_names_train['linear_b_sep_tokenized'] = tokenize_column(T5_data_linearb_names_train, 'linear_b_sep')\n",
    "T5_data_linearb_names_train['linear_b_transliterated_sep_tokenized'] = tokenize_column(T5_data_linearb_names_train, 'linear_b_transliterated_sep')\n",
    "T5_data_linearb_names_train['linear_b_tokenized'] = tokenize_column(T5_data_linearb_names_train, 'linear_b')\n",
    "T5_data_linearb_names_train['greek_tokenized'] = tokenize_column(T5_data_linearb_names_train, 'greek')\n",
    "T5_data_linearb_names_train['greek_transliterate_tokenized'] = tokenize_column(T5_data_linearb_names_train, 'greek_transliterate')\n",
    "T5_data_linearb_names_train['linear_b_transliterate_tokenized'] = tokenize_column(T5_data_linearb_names_train, 'linear_b_transliterate')\n",
    "\n",
    "\n",
    "# Tokenizing columns in the test dataset\n",
    "T5_data_linearb_names_test['linear_b_sep_tokenized'] = tokenize_column(T5_data_linearb_names_test, 'linear_b_sep')\n",
    "T5_data_linearb_names_test['linear_b_transliterated_sep_tokenized'] = tokenize_column(T5_data_linearb_names_test, 'linear_b_transliterated_sep')\n",
    "T5_data_linearb_names_test['linear_b_tokenized'] = tokenize_column(T5_data_linearb_names_test, 'linear_b')\n",
    "T5_data_linearb_names_test['greek_tokenized'] = tokenize_column(T5_data_linearb_names_test, 'greek')\n",
    "T5_data_linearb_names_test['greek_transliterate_tokenized'] = tokenize_column(T5_data_linearb_names_test, 'greek_transliterate')\n",
    "T5_data_linearb_names_test['linear_b_transliterate_tokenized'] = tokenize_column(T5_data_linearb_names_test, 'linear_b_transliterate')\n"
   ]
  },
  {
   "cell_type": "code",
   "execution_count": 18,
   "metadata": {},
   "outputs": [
    {
     "name": "stdout",
     "output_type": "stream",
     "text": [
      "   linear_b greek  Name greek_transliterate linear_b_transliterate  \\\n",
      "1      𐀀𐀁𐀴𐀵           0                                     aetito   \n",
      "7       𐀀𐀆𐀳           0                                      adete   \n",
      "8     𐀀𐀇𐀪𐀊𐀠           0                                  adirijapi   \n",
      "10     𐀀𐀊𐀕𐀙           0                                    ajamena   \n",
      "12     𐀀𐀏𐀨𐀜           0                                    akarano   \n",
      "\n",
      "                 linear_b_sep    linear_b_transliterated_sep  \\\n",
      "1         𐀀<SEP>𐀁<SEP>𐀴<SEP>𐀵          a<SEP>e<SEP>ti<SEP>to   \n",
      "7               𐀀<SEP>𐀆<SEP>𐀳                a<SEP>de<SEP>te   \n",
      "8   𐀀<SEP>𐀇<SEP>𐀪<SEP>𐀊<SEP>𐀠  a<SEP>di<SEP>ri<SEP>ja<SEP>pi   \n",
      "10        𐀀<SEP>𐀊<SEP>𐀕<SEP>𐀙         a<SEP>ja<SEP>me<SEP>na   \n",
      "12        𐀀<SEP>𐀏<SEP>𐀨<SEP>𐀜         a<SEP>ka<SEP>ra<SEP>no   \n",
      "\n",
      "                               linear_b_sep_tokenized  \\\n",
      "1   [3, 2, 134, 8569, 3155, 2, 134, 8569, 3155, 2,...   \n",
      "7   [3, 2, 134, 8569, 3155, 2, 134, 8569, 3155, 2, 1]   \n",
      "8   [3, 2, 134, 8569, 3155, 2, 134, 8569, 3155, 2,...   \n",
      "10  [3, 2, 134, 8569, 3155, 2, 134, 8569, 3155, 2,...   \n",
      "12  [3, 2, 134, 8569, 3155, 2, 134, 8569, 3155, 2,...   \n",
      "\n",
      "                linear_b_transliterated_sep_tokenized linear_b_tokenized  \\\n",
      "1   [3, 9, 2, 134, 8569, 3155, 15, 2, 134, 8569, 3...          [3, 2, 1]   \n",
      "7   [3, 9, 2, 134, 8569, 3155, 221, 2, 134, 8569, ...          [3, 2, 1]   \n",
      "8   [3, 9, 2, 134, 8569, 3155, 26, 23, 2, 134, 856...          [3, 2, 1]   \n",
      "10  [3, 9, 2, 134, 8569, 3155, 1191, 2, 134, 8569,...          [3, 2, 1]   \n",
      "12  [3, 9, 2, 134, 8569, 3155, 1258, 2, 134, 8569,...          [3, 2, 1]   \n",
      "\n",
      "   greek_tokenized greek_transliterate_tokenized  \\\n",
      "1              [1]                           [1]   \n",
      "7              [1]                           [1]   \n",
      "8              [1]                           [1]   \n",
      "10             [1]                           [1]   \n",
      "12             [1]                           [1]   \n",
      "\n",
      "   linear_b_transliterate_tokenized  \n",
      "1        [3, 9, 15, 17, 23, 235, 1]  \n",
      "7            [3, 9, 221, 17, 15, 1]  \n",
      "8   [3, 9, 26, 23, 22276, 13306, 1]  \n",
      "10          [3, 9, 1191, 904, 9, 1]  \n",
      "12           [3, 5667, 2002, 32, 1]  \n"
     ]
    }
   ],
   "source": [
    "print(T5_data_linearb_names_test.head())"
   ]
  },
  {
   "cell_type": "code",
   "execution_count": 19,
   "metadata": {
    "id": "ChnA4BoES03O"
   },
   "outputs": [
    {
     "ename": "NameError",
     "evalue": "name 'MBart50TokenizerFast' is not defined",
     "output_type": "error",
     "traceback": [
      "\u001b[0;31m---------------------------------------------------------------------------\u001b[0m",
      "\u001b[0;31mNameError\u001b[0m                                 Traceback (most recent call last)",
      "Cell \u001b[0;32mIn [19], line 8\u001b[0m\n\u001b[1;32m      5\u001b[0m BART_data_linearb_names_test \u001b[38;5;241m=\u001b[39m data_linearb_names_test\u001b[38;5;241m.\u001b[39mcopy()\n\u001b[1;32m      7\u001b[0m \u001b[38;5;66;03m#Initialize tokenizer\u001b[39;00m\n\u001b[0;32m----> 8\u001b[0m tokenizer \u001b[38;5;241m=\u001b[39m \u001b[43mMBart50TokenizerFast\u001b[49m\u001b[38;5;241m.\u001b[39mfrom_pretrained(\u001b[38;5;124m'\u001b[39m\u001b[38;5;124mfacebook/mbart-large-50\u001b[39m\u001b[38;5;124m'\u001b[39m)\n\u001b[1;32m     10\u001b[0m \u001b[38;5;66;03m# Tokenizing columns in the training data\u001b[39;00m\n\u001b[1;32m     11\u001b[0m BART_data_linearb_names_train[\u001b[38;5;124m'\u001b[39m\u001b[38;5;124mlinear_b_sep_tokenized\u001b[39m\u001b[38;5;124m'\u001b[39m] \u001b[38;5;241m=\u001b[39m tokenize_column(BART_data_linearb_names_train, \u001b[38;5;124m'\u001b[39m\u001b[38;5;124mlinear_b_sep\u001b[39m\u001b[38;5;124m'\u001b[39m)\n",
      "\u001b[0;31mNameError\u001b[0m: name 'MBart50TokenizerFast' is not defined"
     ]
    }
   ],
   "source": [
    "# @title: BART TOKENIZER\n",
    "\n",
    "# Copy datasets; separating tokenization for BART\n",
    "BART_data_linearb_names_train = data_linearb_names_train.copy()\n",
    "BART_data_linearb_names_test = data_linearb_names_test.copy()\n",
    "\n",
    "#Initialize tokenizer\n",
    "tokenizer = MBart50TokenizerFast.from_pretrained('facebook/mbart-large-50')\n",
    "\n",
    "# Tokenizing columns in the training data\n",
    "BART_data_linearb_names_train['linear_b_sep_tokenized'] = tokenize_column(BART_data_linearb_names_train, 'linear_b_sep')\n",
    "BART_data_linearb_names_train['linear_b_transliterated_sep_tokenized'] = tokenize_column(BART_data_linearb_names_train, 'linear_b_transliterated_sep')\n",
    "BART_data_linearb_names_train['linear_b_tokenized'] = tokenize_column(BART_data_linearb_names_train, 'linear_b')\n",
    "BART_data_linearb_names_train['greek_tokenized'] = tokenize_column(BART_data_linearb_names_train, 'greek')\n",
    "BART_data_linearb_names_train['greek_transliterate_tokenized'] = tokenize_column(BART_data_linearb_names_train, 'greek_transliterate')\n",
    "BART_data_linearb_names_train['linear_b_transliterate_tokenized'] = tokenize_column(BART_data_linearb_names_train, 'linear_b_transliterate')\n",
    "\n",
    "# Tokenizing columns in the test data\n",
    "BART_data_linearb_names_test['linear_b_sep_tokenized'] = tokenize_column(BART_data_linearb_names_test, 'linear_b_sep')\n",
    "BART_data_linearb_names_test['linear_b_transliterated_sep_tokenized'] = tokenize_column(BART_data_linearb_names_test, 'linear_b_transliterated_sep')\n",
    "BART_data_linearb_names_test['linear_b_tokenized'] = tokenize_column(BART_data_linearb_names_test, 'linear_b')\n",
    "BART_data_linearb_names_test['greek_tokenized'] = tokenize_column(BART_data_linearb_names_test, 'greek')\n",
    "BART_data_linearb_names_test['greek_transliterate_tokenized'] = tokenize_column(BART_data_linearb_names_test, 'greek_transliterate')\n",
    "BART_data_linearb_names_test['linear_b_transliterate_tokenized'] = tokenize_column(BART_data_linearb_names_test, 'linear_b_transliterate')\n"
   ]
  },
  {
   "cell_type": "code",
   "execution_count": 20,
   "metadata": {},
   "outputs": [
    {
     "name": "stdout",
     "output_type": "stream",
     "text": [
      "  linear_b      greek  Name greek_transliterate linear_b_transliterate  \\\n",
      "0    𐀀𐀁𐀪𐀦𐀲  αελιποτας     1           aelipotas               aeriqota   \n",
      "2     𐀀𐀅𐀔𐀃     αδαμαο     1              adamao                 adamao   \n",
      "3     𐀀𐀅𐀔𐀃     αδαμας     1              adamas                 adamao   \n",
      "4     𐀀𐀅𐀕𐀸  αδαμεfεις     1           adamefeis                adamewe   \n",
      "5     𐀀𐀅𐀕𐀸    αδαμευς     1             adameus                adamewe   \n",
      "\n",
      "                linear_b_sep   linear_b_transliterated_sep  \n",
      "0  𐀀<SEP>𐀁<SEP>𐀪<SEP>𐀦<SEP>𐀲  a<SEP>e<SEP>ri<SEP>qo<SEP>ta  \n",
      "2        𐀀<SEP>𐀅<SEP>𐀔<SEP>𐀃         a<SEP>da<SEP>ma<SEP>o  \n",
      "3        𐀀<SEP>𐀅<SEP>𐀔<SEP>𐀃         a<SEP>da<SEP>ma<SEP>o  \n",
      "4        𐀀<SEP>𐀅<SEP>𐀕<SEP>𐀸        a<SEP>da<SEP>me<SEP>we  \n",
      "5        𐀀<SEP>𐀅<SEP>𐀕<SEP>𐀸        a<SEP>da<SEP>me<SEP>we  \n"
     ]
    }
   ],
   "source": [
    "print(BART_data_linearb_names_train.head())"
   ]
  },
  {
   "cell_type": "code",
   "execution_count": 21,
   "metadata": {},
   "outputs": [
    {
     "name": "stdout",
     "output_type": "stream",
     "text": [
      "T5_data_linearb_names_train: 605\n",
      "  linear_b      greek  Name greek_transliterate linear_b_transliterate  \\\n",
      "0    𐀀𐀁𐀪𐀦𐀲  αελιποτας     1           aelipotas               aeriqota   \n",
      "2     𐀀𐀅𐀔𐀃     αδαμαο     1              adamao                 adamao   \n",
      "\n",
      "                linear_b_sep   linear_b_transliterated_sep  \\\n",
      "0  𐀀<SEP>𐀁<SEP>𐀪<SEP>𐀦<SEP>𐀲  a<SEP>e<SEP>ri<SEP>qo<SEP>ta   \n",
      "2        𐀀<SEP>𐀅<SEP>𐀔<SEP>𐀃         a<SEP>da<SEP>ma<SEP>o   \n",
      "\n",
      "                              linear_b_sep_tokenized  \\\n",
      "0  [3, 2, 134, 8569, 3155, 2, 134, 8569, 3155, 2,...   \n",
      "2  [3, 2, 134, 8569, 3155, 2, 134, 8569, 3155, 2,...   \n",
      "\n",
      "               linear_b_transliterated_sep_tokenized linear_b_tokenized  \\\n",
      "0  [3, 9, 2, 134, 8569, 3155, 15, 2, 134, 8569, 3...          [3, 2, 1]   \n",
      "2  [3, 9, 2, 134, 8569, 3155, 26, 9, 2, 134, 8569...          [3, 2, 1]   \n",
      "\n",
      "  greek_tokenized      greek_transliterate_tokenized  \\\n",
      "0       [3, 2, 1]  [3, 9, 15, 40, 23, 3013, 9, 7, 1]   \n",
      "2       [3, 2, 1]             [3, 9, 7812, 9, 32, 1]   \n",
      "\n",
      "     linear_b_transliterate_tokenized  \n",
      "0  [3, 9, 49, 23, 1824, 32, 17, 9, 1]  \n",
      "2              [3, 9, 7812, 9, 32, 1]  \n",
      "\n",
      "T5_data_linearb_names_test: 464\n",
      "  linear_b greek  Name greek_transliterate linear_b_transliterate  \\\n",
      "1     𐀀𐀁𐀴𐀵           0                                     aetito   \n",
      "7      𐀀𐀆𐀳           0                                      adete   \n",
      "\n",
      "          linear_b_sep linear_b_transliterated_sep  \\\n",
      "1  𐀀<SEP>𐀁<SEP>𐀴<SEP>𐀵       a<SEP>e<SEP>ti<SEP>to   \n",
      "7        𐀀<SEP>𐀆<SEP>𐀳             a<SEP>de<SEP>te   \n",
      "\n",
      "                              linear_b_sep_tokenized  \\\n",
      "1  [3, 2, 134, 8569, 3155, 2, 134, 8569, 3155, 2,...   \n",
      "7  [3, 2, 134, 8569, 3155, 2, 134, 8569, 3155, 2, 1]   \n",
      "\n",
      "               linear_b_transliterated_sep_tokenized linear_b_tokenized  \\\n",
      "1  [3, 9, 2, 134, 8569, 3155, 15, 2, 134, 8569, 3...          [3, 2, 1]   \n",
      "7  [3, 9, 2, 134, 8569, 3155, 221, 2, 134, 8569, ...          [3, 2, 1]   \n",
      "\n",
      "  greek_tokenized greek_transliterate_tokenized  \\\n",
      "1             [1]                           [1]   \n",
      "7             [1]                           [1]   \n",
      "\n",
      "  linear_b_transliterate_tokenized  \n",
      "1       [3, 9, 15, 17, 23, 235, 1]  \n",
      "7           [3, 9, 221, 17, 15, 1]  \n",
      "\n",
      "BART_data_linearb_names_train: 605\n",
      "  linear_b      greek  Name greek_transliterate linear_b_transliterate  \\\n",
      "0    𐀀𐀁𐀪𐀦𐀲  αελιποτας     1           aelipotas               aeriqota   \n",
      "2     𐀀𐀅𐀔𐀃     αδαμαο     1              adamao                 adamao   \n",
      "\n",
      "                linear_b_sep   linear_b_transliterated_sep  \n",
      "0  𐀀<SEP>𐀁<SEP>𐀪<SEP>𐀦<SEP>𐀲  a<SEP>e<SEP>ri<SEP>qo<SEP>ta  \n",
      "2        𐀀<SEP>𐀅<SEP>𐀔<SEP>𐀃         a<SEP>da<SEP>ma<SEP>o  \n",
      "\n",
      "BART_data_linearb_names_test: 464\n",
      "  linear_b greek  Name greek_transliterate linear_b_transliterate  \\\n",
      "1     𐀀𐀁𐀴𐀵           0                                     aetito   \n",
      "7      𐀀𐀆𐀳           0                                      adete   \n",
      "\n",
      "          linear_b_sep linear_b_transliterated_sep  \n",
      "1  𐀀<SEP>𐀁<SEP>𐀴<SEP>𐀵       a<SEP>e<SEP>ti<SEP>to  \n",
      "7        𐀀<SEP>𐀆<SEP>𐀳             a<SEP>de<SEP>te  \n"
     ]
    }
   ],
   "source": [
    "print(\"T5_data_linearb_names_train:\", len(T5_data_linearb_names_train))\n",
    "print(T5_data_linearb_names_train.head(2))\n",
    "print(\"\\nT5_data_linearb_names_test:\", len(T5_data_linearb_names_test))\n",
    "print(T5_data_linearb_names_test.head(2))\n",
    "\n",
    "print(\"\\nBART_data_linearb_names_train:\", len(BART_data_linearb_names_train))\n",
    "print(BART_data_linearb_names_train.head(2))\n",
    "print(\"\\nBART_data_linearb_names_test:\", len(BART_data_linearb_names_test))\n",
    "print(BART_data_linearb_names_test.head(2))\n"
   ]
  },
  {
   "cell_type": "markdown",
   "metadata": {
    "id": "Hcpc27jJX7JU"
   },
   "source": [
    "## MODEL ARCHITECTURE\n",
    "\n",
    "- Identify baseline model\n",
    "- Test other Seq2seq models\n",
    "  - Transformer model - our own?\n",
    "  - Or can we modify BERT/another model and train it too?"
   ]
  },
  {
   "cell_type": "markdown",
   "metadata": {},
   "source": [
    "### T5 Model"
   ]
  },
  {
   "cell_type": "code",
   "execution_count": 22,
   "metadata": {},
   "outputs": [
    {
     "name": "stderr",
     "output_type": "stream",
     "text": [
      "Special tokens have been added in the vocabulary, make sure the associated word embeddings are fine-tuned or trained.\n",
      "config.json: 100%|█████████████████████████████████████████████████████████████████████████████| 1.21k/1.21k [00:00<00:00, 15.5MB/s]\n",
      "model.safetensors: 100%|█████████████████████████████████████████████████████████████████████████| 242M/242M [00:04<00:00, 57.2MB/s]\n",
      "generation_config.json: 100%|██████████████████████████████████████████████████████████████████████| 147/147 [00:00<00:00, 2.41MB/s]\n",
      "/opt/homebrew/lib/python3.10/site-packages/transformers/optimization.py:411: FutureWarning: This implementation of AdamW is deprecated and will be removed in a future version. Use the PyTorch implementation torch.optim.AdamW instead, or set `no_deprecation_warning=True` to disable this warning\n",
      "  warnings.warn(\n"
     ]
    },
    {
     "name": "stdout",
     "output_type": "stream",
     "text": [
      "Epoch 0, Loss: 4.008090521159925\n",
      "Epoch 1, Loss: 2.5305212924354956\n",
      "Epoch 2, Loss: 2.060583268341265\n",
      "Epoch 3, Loss: 1.9185182013009723\n",
      "Epoch 4, Loss: 1.7760746918226544\n"
     ]
    }
   ],
   "source": [
    "#T5 Model\n",
    "\n",
    "import torch\n",
    "from torch.utils.data import DataLoader, Dataset\n",
    "from transformers import T5Tokenizer, T5ForConditionalGeneration, AdamW\n",
    "from torch.nn.utils.rnn import pad_sequence\n",
    "\n",
    "epochs = 5\n",
    "\n",
    "class LinearBToGreekDataset(Dataset):\n",
    "    def __init__(self, dataframe, tokenizer):\n",
    "        self.dataframe = dataframe\n",
    "        self.tokenizer = tokenizer\n",
    "\n",
    "    def __len__(self):\n",
    "        return len(self.dataframe)\n",
    "\n",
    "    def __getitem__(self, idx):\n",
    "        # Tokenize input and label text\n",
    "        input_text = \"translate Linear B to Greek: \" + self.dataframe.iloc[idx]['linear_b_transliterated_sep']\n",
    "        target_text = self.dataframe.iloc[idx]['greek_transliterate']\n",
    "        input_ids = self.tokenizer.encode(input_text, return_tensors=\"pt\", max_length=512, truncation=True).squeeze()\n",
    "        labels = self.tokenizer.encode(target_text, return_tensors=\"pt\", max_length=512, truncation=True).squeeze()\n",
    "        return input_ids, labels\n",
    "\n",
    "    def collate_fn(self, batch):\n",
    "        input_ids, labels = zip(*batch)\n",
    "        input_ids_padded = pad_sequence(input_ids, batch_first=True, padding_value=self.tokenizer.pad_token_id)\n",
    "        labels_padded = pad_sequence(labels, batch_first=True, padding_value=self.tokenizer.pad_token_id)\n",
    "        return input_ids_padded, labels_padded\n",
    "\n",
    "# Load tokenizer and model\n",
    "tokenizer = T5Tokenizer.from_pretrained('t5-small')\n",
    "model = T5ForConditionalGeneration.from_pretrained('t5-small')\n",
    "\n",
    "# Prepare dataset and dataloader\n",
    "train_dataset = LinearBToGreekDataset(T5_data_linearb_names_train, tokenizer)\n",
    "train_loader = DataLoader(train_dataset, batch_size=16, shuffle=True, collate_fn=train_dataset.collate_fn)\n",
    "\n",
    "# Training setup\n",
    "device = torch.device('cuda' if torch.cuda.is_available() else 'cpu')\n",
    "model.to(device)\n",
    "\n",
    "\n",
    "optimizer = AdamW(model.parameters(), lr=0.0001)\n",
    "epoch_loss = []\n",
    "\n",
    "# Training loop\n",
    "model.train()\n",
    "for epoch in range(epochs):\n",
    "    total_loss = 0\n",
    "\n",
    "    for batch in train_loader:\n",
    "        input_ids, labels = batch\n",
    "        input_ids = input_ids.to(device)\n",
    "        labels = labels.to(device)\n",
    "\n",
    "        # Forward pass\n",
    "        outputs = model(input_ids=input_ids, labels=labels)\n",
    "        loss = outputs.loss\n",
    "\n",
    "        # Backward pass and optimization\n",
    "        optimizer.zero_grad()\n",
    "        loss.backward()\n",
    "        optimizer.step()\n",
    "\n",
    "        total_loss += loss.item()\n",
    "\n",
    "    avg_loss = total_loss / len(train_loader)\n",
    "    epoch_loss.append(avg_loss)\n",
    "\n",
    "    print(f\"Epoch {epoch}, Loss: {avg_loss}\")\n"
   ]
  },
  {
   "cell_type": "code",
   "execution_count": 23,
   "metadata": {},
   "outputs": [
    {
     "data": {
      "image/png": "[encoded data removed]",
      "text/plain": [
       "<Figure size 640x480 with 1 Axes>"
      ]
     },
     "metadata": {},
     "output_type": "display_data"
    }
   ],
   "source": [
    "#Plotting loss\n",
    "\n",
    "plt.plot(epoch_loss, label='Training Loss')\n",
    "plt.xlabel('Epochs')\n",
    "plt.ylabel('Loss')\n",
    "plt.title('Training Loss Over Epochs')\n",
    "plt.legend()\n",
    "plt.show()"
   ]
  },
  {
   "cell_type": "code",
   "execution_count": 29,
   "metadata": {},
   "outputs": [],
   "source": [
    "test_input_texts = [\"translate LinearB to Greek: \" + str(entry) for entry in T5_data_linearb_names_test['linear_b_transliterated_sep']]\n",
    "test_inputs = tokenizer(test_input_texts, return_tensors='pt', padding=True, truncation=True)\n",
    "\n",
    "model.to(device)\n",
    "\n",
    "# Evaluate\n",
    "model.eval() \n",
    "with torch.no_grad():\n",
    "    test_inputs = {k: v.to(device) for k, v in test_inputs.items()}\n",
    "    test_summary_ids = model.generate(test_inputs['input_ids'], num_beams=4, no_repeat_ngram_size=2, max_length=50)\n",
    "\n"
   ]
  },
  {
   "cell_type": "code",
   "execution_count": 55,
   "metadata": {},
   "outputs": [
    {
     "name": "stdout",
     "output_type": "stream",
     "text": [
      "0.79\n"
     ]
    }
   ],
   "source": [
    "#PLACEHOLDER: doing similarity scores between two words. currently totally random, but can replace once professor/s reply\n",
    "import random\n",
    "def similarity_scores(word1,word2):\n",
    "    return random.randint(0,100)/100\n",
    "print(similarity_scores(\"adete\",\"andetir\"))"
   ]
  },
  {
   "cell_type": "code",
   "execution_count": 68,
   "metadata": {},
   "outputs": [
    {
     "name": "stdout",
     "output_type": "stream",
     "text": [
      "               Original Linear B Prediction      Actual  Similarity Score\n",
      "0          a<SEP>e<SEP>ti<SEP>to     aetito   aethistos              0.48\n",
      "1          a<SEP>e<SEP>ti<SEP>to     aetito      ethizo              0.48\n",
      "2                a<SEP>de<SEP>te      adete     andetir              0.94\n",
      "3                a<SEP>de<SEP>te      adete   andetires              0.94\n",
      "4  a<SEP>di<SEP>ri<SEP>ja<SEP>pi      adipi  andriantei              0.70\n",
      "0.639888888888889\n"
     ]
    }
   ],
   "source": [
    "test_predictions = [tokenizer.decode(g, skip_special_tokens=True, clean_up_tokenization_spaces=False) for g in test_summary_ids]\n",
    "\n",
    "comparison_df=[]\n",
    "#for prediction in test_predictions:\n",
    "#    print(prediction)\n",
    "assert(len(test_inputs[\"input_ids\"])==len(test_predictions))\n",
    "\n",
    "#get linear b transliteration in the original non-names dataset, and in the input test dataset\n",
    "for i in range(len(test_predictions)):\n",
    "\n",
    "    cur_prediction_greek=test_predictions[i]\n",
    "    #print(cur_prediction_greek)\n",
    "    cur_split_linb_transliteration=T5_data_linearb_names_test[\"linear_b_transliterated_sep\"].iloc[i]\n",
    "    \n",
    "    #get the subset of the original non-names dataset which has the same linear_b transliteration\n",
    "    data_linearb_subset=data_linearb_split[data_linearb_split[\"linear_b_transliterated_sep\"]==cur_split_linb_transliteration]\n",
    "    if len(data_linearb_subset)==0:\n",
    "        print(i)\n",
    "    \n",
    "    #build up prediction vs. actual, and append the maximum score for the current input\n",
    "    scores=[]\n",
    "    indices=[]\n",
    "    for j in range(len(data_linearb_subset)):\n",
    "        #print(cur_prediction_greek,\"|\",data_linearb_subset[\"greek_transliterate\"].iloc[j])\n",
    "        comparison_df.append([cur_split_linb_transliteration,cur_prediction_greek,\\\n",
    "                              data_linearb_subset[\"greek_transliterate\"].iloc[j]])\n",
    "        scores.append(similarity_scores(cur_prediction_greek,data_linearb_subset[\"greek_transliterate\"].iloc[j]))\n",
    "    best_score_for_subset=max(scores)\n",
    "    for lst in comparison_df:\n",
    "        if lst[0]!=cur_split_linb_transliteration:continue\n",
    "        lst.append(best_score_for_subset)\n",
    "        \n",
    "\n",
    "    \n",
    "\n",
    "comparison_df=pd.DataFrame(comparison_df,columns=[\"Original Linear B\",\"Prediction\",\"Actual\",\"Similarity Score\"])\n",
    "print(comparison_df.head())\n",
    "print(comparison_df[\"Similarity Score\"].mean())"
   ]
  },
  {
   "cell_type": "code",
   "execution_count": 36,
   "metadata": {},
   "outputs": [
    {
     "name": "stdout",
     "output_type": "stream",
     "text": [
      "464\n"
     ]
    }
   ],
   "source": []
  },
  {
   "cell_type": "code",
   "execution_count": null,
   "metadata": {},
   "outputs": [],
   "source": [
    "# t5_model = TFT5ForConditionalGeneration.from_pretrained('t5-small')\n",
    "# t5_tokenizer = T5Tokenizer.from_pretrained('t5-small')\n",
    "\n",
    "\n",
    "# input_texts = [\"translate LinearB to Greek: \" + str(entry) for entry in T5_data_linearb_names_train['linear_b_transliterated_sep']]\n",
    "# inputs = t5_tokenizer(input_texts, return_tensors='tf', padding=True, truncation=True, max_length=512)\n",
    "\n",
    "# summary_ids = t5_model.generate(inputs['input_ids'],\n",
    "#                                 num_beams=3,\n",
    "#                                 no_repeat_ngram_size=3,\n",
    "#                                 min_length=10,\n",
    "#                                 max_length=40)\n",
    "\n",
    "# predictions = [t5_tokenizer.decode(g, skip_special_tokens=True, clean_up_tokenization_spaces=False) for g in summary_ids]\n",
    "\n",
    "# for prediction in predictions:\n",
    "#     print(prediction)\n"
   ]
  },
  {
   "cell_type": "code",
   "execution_count": null,
   "metadata": {},
   "outputs": [],
   "source": [
    "# input_texts = [\"translate LinearB to Greek: \" + str(entry) for entry in T5_data_linearb_names_test['linear_b_transliterated_sep']]\n",
    "# test_inputs = t5_tokenizer(input_texts, return_tensors='tf', padding=True, truncation=True)\n",
    "\n",
    "# summary_ids = t5_model.generate(test_inputs['input_ids'],\n",
    "#                                 num_beams=4,\n",
    "#                                 no_repeat_ngram_size=2,\n",
    "#                                 max_length=50)\n",
    "\n",
    "# predictions = [t5_tokenizer.decode(g, skip_special_tokens=True, clean_up_tokenization_spaces=False) for g in summary_ids]\n"
   ]
  },
  {
   "cell_type": "markdown",
   "metadata": {},
   "source": [
    "### BART Model"
   ]
  },
  {
   "cell_type": "code",
   "execution_count": null,
   "metadata": {},
   "outputs": [],
   "source": [
    "## BART MODEL\n",
    "\n",
    "# from transformers import MBartForConditionalGeneration, MBart50TokenizerFast\n",
    "\n",
    "# article_A = \"Input A\"\n",
    "# article_B = \"Expected Output B\"\n",
    "\n",
    "# model = MBartForConditionalGeneration.from_pretrained(\"facebook/mbart-large-50-many-to-many-mmt\")\n",
    "# tokenizer = MBart50TokenizerFast.from_pretrained(\"facebook/mbart-large-50-many-to-many-mmt\")\n",
    "\n",
    "# # translate Linear B to Greek\n",
    "# tokenizer.src_lang = \"ar_AR\"\n",
    "# encoded_ar = tokenizer(article_ar, return_tensors=\"pt\")\n",
    "# generated_tokens = model.generate(**encoded_ar, forced_bos_token_id=tokenizer.lang_code_to_id[\"en_XX\"])\n",
    "# tokenizer.batch_decode(generated_tokens, skip_special_tokens=True)"
   ]
  },
  {
   "cell_type": "code",
   "execution_count": null,
   "metadata": {},
   "outputs": [],
   "source": [
    "# # Remove any existing file/directory with the same name\n",
    "# !rm -rf bart.large.tar.gz\n",
    "\n",
    "# # Download the BART model\n",
    "# !wget https://dl.fbaipublicfiles.com/fairseq/models/bart.large.tar.gz\n",
    "\n",
    "# # Extract the tar file\n",
    "# !tar -xzvf bart.large.tar.gz"
   ]
  },
  {
   "cell_type": "code",
   "execution_count": null,
   "metadata": {},
   "outputs": [],
   "source": [
    "# model_directory = './bart.large.tar.gz'\n",
    "# bart = BARTModel.from_pretrained(model_directory, checkpoint_file='model.pt')\n",
    "# bart.eval()"
   ]
  },
  {
   "cell_type": "code",
   "execution_count": null,
   "metadata": {},
   "outputs": [],
   "source": [
    "# tokens = bart.encode('αελιποτας')\n",
    "# print(\"Encoded tokens:\", tokens.tolist())\n",
    "# decoded_text = bart.decode(tokens)\n",
    "# print(\"Decoded text:\", decoded_text)"
   ]
  },
  {
   "cell_type": "code",
   "execution_count": null,
   "metadata": {},
   "outputs": [],
   "source": [
    "# last_layer_features = bart.extract_features(tokens)\n",
    "\n",
    "# assert last_layer_features.size() == torch.Size([1, len(tokens), bart.model.encoder.embed_tokens.embedding_dim])\n",
    "\n",
    "# all_layers = bart.extract_features(tokens, return_all_hiddens=True)\n",
    "\n",
    "# assert len(all_layers) == bart.model.encoder.layers.__len__() + 1  # +1 for the embedding layer\n",
    "# assert torch.all(all_layers[-1] == last_layer_features)"
   ]
  },
  {
   "cell_type": "markdown",
   "metadata": {
    "id": "FYBwnmy1S03P"
   },
   "source": [
    "### Building the Model"
   ]
  },
  {
   "cell_type": "code",
   "execution_count": null,
   "metadata": {
    "id": "03H5YWQ3S03Q"
   },
   "outputs": [],
   "source": [
    "# # Building the COgnate model (sample skeleton)\n",
    "\n",
    "# config = BertConfig.from_pretrained('bert-base-uncased', output_attentions=True)\n",
    "# bert_model = BertModel(config)\n",
    "\n",
    "# class CognatePredictionModel(nn.Module):\n",
    "#     def __init__(self, bert_model):\n",
    "#         super(CognatePredictionModel, self).__init__()\n",
    "#         self.bert = bert_model\n",
    "\n",
    "#         # BERT outputs a 768-d vector\n",
    "#         bert_output_size = 768\n",
    "\n",
    "#         # Additional fully connected layers\n",
    "#         self.fc1 = nn.Linear(bert_output_size * 2, 512)\n",
    "#         self.relu = nn.ReLU()\n",
    "#         self.fc2 = nn.Linear(512, 256)\n",
    "#         # Output layer for binary classification\n",
    "#         self.fc3 = nn.Linear(256, 1)\n",
    "\n",
    "#     def forward(self, linear_b_tokens, greek_tokens):\n",
    "#         # Pass input through BERT, take pooled output\n",
    "#         outputs_linear_b = self.bert(linear_b_tokens)[1]\n",
    "#         outputs_greek = self.bert(greek_tokens)[1]\n",
    "\n",
    "#         # Concatenate the outputs\n",
    "#         combined = torch.cat((outputs_linear_b, outputs_greek), 1)\n",
    "\n",
    "#         # Pass through additional layers; placeholders\n",
    "#         x = self.fc1(combined)\n",
    "#         x = self.relu(x)\n",
    "#         x = self.fc2(x)\n",
    "#         x = self.relu(x)\n",
    "#         x = self.fc3(x)\n",
    "\n",
    "#         #print x\n",
    "#         # Should be tensor with logits\n",
    "\n",
    "#         return x\n"
   ]
  },
  {
   "cell_type": "markdown",
   "metadata": {
    "id": "_pjRsqtmZUfW"
   },
   "source": [
    "## TRAINING\n",
    "\n",
    "- Train the model"
   ]
  },
  {
   "cell_type": "code",
   "execution_count": null,
   "metadata": {
    "id": "Up1TAf_STKbE"
   },
   "outputs": [],
   "source": [
    "# unique_greek_tokens = set()\n",
    "\n",
    "# for tokens in data_linearb_names_train['greek']:\n",
    "#     unique_greek_tokens.update(tokens.split('|'))\n",
    "\n",
    "# for tokens in data_linearb_names_test['greek']:\n",
    "#     unique_greek_tokens.update(tokens.split('|'))\n",
    "\n",
    "# token_to_id = {token: idx for idx, token in enumerate(unique_greek_tokens)}"
   ]
  },
  {
   "cell_type": "code",
   "execution_count": null,
   "metadata": {
    "id": "SLn_2sABZZ7j"
   },
   "outputs": [],
   "source": [
    "# class CognateDataset(Dataset):\n",
    "#     def __init__(self, linear_b_tokens, greek_tokens, token_to_id, default_id=0):\n",
    "#         self.linear_b_tokens = linear_b_tokens\n",
    "#         self.greek_tokens = greek_tokens\n",
    "#         self.token_to_id = token_to_id\n",
    "#         self.default_id = default_id\n",
    "\n",
    "#     def __len__(self):\n",
    "#         return len(self.linear_b_tokens)\n",
    "\n",
    "#     def __getitem__(self, idx):\n",
    "#         linear_b_token_tensor = torch.tensor(self.linear_b_tokens[idx], dtype=torch.long)\n",
    "#         greek_token_tensor = torch.tensor(self.greek_tokens[idx], dtype=torch.long)\n",
    "\n",
    "#         return {\n",
    "#             'linear_b_tokens': linear_b_token_tensor,\n",
    "#             'greek_tokens': greek_token_tensor\n",
    "#         }\n",
    "\n",
    "# train_dataset = CognateDataset(\n",
    "#     data_linearb_names_train['linear_b_tokens'].tolist(),\n",
    "#     data_linearb_names_train['greek_tokens'].tolist(),\n",
    "#     token_to_id,\n",
    "#     default_id=0\n",
    "# )\n",
    "\n",
    "# test_dataset = CognateDataset(\n",
    "#     data_linearb_names_test['linear_b_tokens'].tolist(),\n",
    "#     # For test data, you might not have labels or might handle them differently\n",
    "#     [0] * len(data_linearb_names_test),  # Placeholder if you don't have labels\n",
    "#     token_to_id,\n",
    "#     default_id=0\n",
    "# )\n",
    "\n",
    "# def collate_fn(batch):\n",
    "#     linear_b_tokens = [item['linear_b_tokens'] for item in batch]\n",
    "#     greek_tokens = [item['greek_tokens'] for item in batch]\n",
    "\n",
    "#     # Pad sequences\n",
    "#     linear_b_tokens_padded = pad_sequence(linear_b_tokens, batch_first=True, padding_value=tokenizer.pad_token_id)\n",
    "#     greek_tokens_padded = pad_sequence(greek_tokens, batch_first=True, padding_value=tokenizer.pad_token_id)\n",
    "\n",
    "#     return {\n",
    "#         'linear_b_tokens': linear_b_tokens_padded,\n",
    "#         'greek_tokens': greek_tokens_padded\n",
    "#     }\n",
    "\n",
    "# data_loader = DataLoader(train_dataset, batch_size=32, shuffle=True, collate_fn=collate_fn)"
   ]
  },
  {
   "cell_type": "code",
   "execution_count": null,
   "metadata": {
    "id": "ZHyiuSm8Tpr9"
   },
   "outputs": [],
   "source": [
    "# # Model\n",
    "\n",
    "# model = CognatePredictionModel(bert_model)\n",
    "# loss_function = nn.BCEWithLogitsLoss()\n",
    "# optimizer = Adam(model.parameters(), lr=0.001)\n",
    "\n",
    "\n",
    "# num_epochs = 5\n",
    "# for epoch in range(num_epochs):\n",
    "#     model.train()\n",
    "#     total_loss = 0\n",
    "#     correct_predictions = 0\n",
    "#     total_predictions = 0\n",
    "\n",
    "#     for batch in data_loader:\n",
    "#         linear_b_tokens = batch['linear_b_tokens']\n",
    "#         greek_tokens = batch['greek_tokens']\n",
    "#         optimizer.zero_grad()\n",
    "\n",
    "#         outputs = model(linear_b_tokens, greek_tokens)\n",
    "#         outputs = outputs.squeeze()\n",
    "\n",
    "#         loss = loss_function(outputs, greek_tokens.float())\n",
    "#         total_loss += loss.item()\n",
    "\n",
    "#         loss.backward()\n",
    "#         optimizer.step()\n",
    "\n",
    "#         predicted_labels = (outputs > 0).float()\n",
    "#         correct_predictions += (predicted_labels == greek_tokens).sum().item()\n",
    "#         total_predictions += greek_tokens.numel()\n",
    "\n",
    "#     avg_loss = total_loss / len(data_loader)\n",
    "#     accuracy = correct_predictions / total_predictions\n",
    "#     print(f\"Epoch {epoch+1}/{num_epochs}, Loss: {avg_loss:.4f}, Accuracy: {accuracy:.4f}\")"
   ]
  },
  {
   "cell_type": "markdown",
   "metadata": {
    "id": "KCwEcUksZCCv"
   },
   "source": [
    "## EVALUATION\n",
    "\n",
    "- The primary goal metric is accuracy as compared to NeuroDecipher"
   ]
  },
  {
   "cell_type": "code",
   "execution_count": null,
   "metadata": {
    "id": "4fs1bKF0ZJJp"
   },
   "outputs": [],
   "source": [
    "# Evaluation code\n",
    "\n"
   ]
  }
 ],
 "metadata": {
  "colab": {
   "provenance": []
  },
  "kernelspec": {
   "display_name": "Python 3 (test)",
   "language": "python",
   "name": "python3"
  },
  "language_info": {
   "codemirror_mode": {
    "name": "ipython",
    "version": 3
   },
   "file_extension": ".py",
   "mimetype": "text/x-python",
   "name": "python",
   "nbconvert_exporter": "python",
   "pygments_lexer": "ipython3",
   "version": "3.10.8"
  }
 },
 "nbformat": 4,
 "nbformat_minor": 1
}
